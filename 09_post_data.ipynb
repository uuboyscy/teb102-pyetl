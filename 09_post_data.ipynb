{
 "cells": [
  {
   "cell_type": "code",
   "execution_count": 1,
   "metadata": {},
   "outputs": [
    {
     "name": "stdout",
     "output_type": "stream",
     "text": [
      "\n",
      "    <!doctype html>\n",
      "    <title>Hello, World!</title>\n",
      "    <h1>Hello, your name is ?</h1>\n",
      "    <p></p>\n",
      "    <form action=\"/hello_post\" method=\"post\">\n",
      "    <label>Name:</label>\n",
      "    <input type=\"textbox\" name=\"username\">\n",
      "    <input type=\"submit\" value=\"Submit\">\n",
      "    </form>\n",
      "    \n"
     ]
    }
   ],
   "source": [
    "import requests\n",
    "\n",
    "url = 'http://76d79d7595c2.ngrok.io/hello_post'\n",
    "\n",
    "res_get = requests.get(url)\n",
    "print(res_get.text)"
   ]
  },
  {
   "cell_type": "code",
   "execution_count": 3,
   "metadata": {},
   "outputs": [
    {
     "name": "stdout",
     "output_type": "stream",
     "text": [
      "\n",
      "    <!doctype html>\n",
      "    <title>Hello, World!</title>\n",
      "    <h1>Hello, your name is ?</h1>\n",
      "    <p></p>\n",
      "    <form action=\"/hello_post\" method=\"post\">\n",
      "    <label>Name:</label>\n",
      "    <input type=\"textbox\" name=\"username\">\n",
      "    <input type=\"submit\" value=\"Submit\">\n",
      "    </form>\n",
      "    \n",
      "    <h1>Hello Allen !!</h1>\n",
      "    \n"
     ]
    }
   ],
   "source": [
    "data = {\n",
    "    'username': 'Allen'\n",
    "}\n",
    "\n",
    "res_post = requests.post(url, data=data)\n",
    "print(res_post.text)"
   ]
  },
  {
   "cell_type": "code",
   "execution_count": 4,
   "metadata": {},
   "outputs": [],
   "source": [
    "data_str = \"\"\"method: search\n",
    "searchMethod: true\n",
    "searchTarget: ATM\n",
    "orgName: fghjkl\n",
    "orgId: fghvbjn\n",
    "hid_1: 1\n",
    "tenderName: chgvjbnm\n",
    "tenderId: cvbnm\n",
    "tenderStatus: 5,6,20,28\n",
    "tenderWay: \n",
    "awardAnnounceStartDate: 109/08/22\n",
    "awardAnnounceEndDate: 109/08/22\n",
    "proctrgCate: \n",
    "tenderRange: \n",
    "minBudget: \n",
    "maxBudget: \n",
    "item: chgvbjnm\n",
    "hid_2: 1\n",
    "gottenVendorName: chgvbjn\n",
    "gottenVendorId: cvbnm,\n",
    "hid_3: 1\n",
    "submitVendorName: \n",
    "submitVendorId: \n",
    "location: \n",
    "execLocationArea: \n",
    "priorityCate: \n",
    "isReConstruct: \n",
    "btnQuery: 查詢\"\"\"\n",
    "\n",
    "data = {r.split(': ')[0]: r.split(': ')[1] for r in data_str.split('\\n')}"
   ]
  },
  {
   "cell_type": "code",
   "execution_count": 5,
   "metadata": {},
   "outputs": [
    {
     "data": {
      "text/plain": [
       "{'method': 'search',\n",
       " 'searchMethod': 'true',\n",
       " 'searchTarget': 'ATM',\n",
       " 'orgName': 'fghjkl',\n",
       " 'orgId': 'fghvbjn',\n",
       " 'hid_1': '1',\n",
       " 'tenderName': 'chgvjbnm',\n",
       " 'tenderId': 'cvbnm',\n",
       " 'tenderStatus': '5,6,20,28',\n",
       " 'tenderWay': '',\n",
       " 'awardAnnounceStartDate': '109/08/22',\n",
       " 'awardAnnounceEndDate': '109/08/22',\n",
       " 'proctrgCate': '',\n",
       " 'tenderRange': '',\n",
       " 'minBudget': '',\n",
       " 'maxBudget': '',\n",
       " 'item': 'chgvbjnm',\n",
       " 'hid_2': '1',\n",
       " 'gottenVendorName': 'chgvbjn',\n",
       " 'gottenVendorId': 'cvbnm,',\n",
       " 'hid_3': '1',\n",
       " 'submitVendorName': '',\n",
       " 'submitVendorId': '',\n",
       " 'location': '',\n",
       " 'execLocationArea': '',\n",
       " 'priorityCate': '',\n",
       " 'isReConstruct': '',\n",
       " 'btnQuery': '查詢'}"
      ]
     },
     "execution_count": 5,
     "metadata": {},
     "output_type": "execute_result"
    }
   ],
   "source": [
    "data"
   ]
  },
  {
   "cell_type": "code",
   "execution_count": null,
   "metadata": {},
   "outputs": [],
   "source": []
  }
 ],
 "metadata": {
  "kernelspec": {
   "display_name": "Python 3",
   "language": "python",
   "name": "python3"
  },
  "language_info": {
   "codemirror_mode": {
    "name": "ipython",
    "version": 3
   },
   "file_extension": ".py",
   "mimetype": "text/x-python",
   "name": "python",
   "nbconvert_exporter": "python",
   "pygments_lexer": "ipython3",
   "version": "3.7.0"
  }
 },
 "nbformat": 4,
 "nbformat_minor": 4
}
