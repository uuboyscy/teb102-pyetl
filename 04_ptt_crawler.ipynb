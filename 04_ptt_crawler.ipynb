{
 "cells": [
  {
   "cell_type": "code",
   "execution_count": 2,
   "metadata": {},
   "outputs": [],
   "source": [
    "import requests\n",
    "from bs4 import BeautifulSoup\n",
    "\n",
    "headers = {\n",
    "    'User-Agent': 'Mozilla/5.0 (Macintosh; Intel Mac OS X 10_15_5) AppleWebKit/537.36 (KHTML, like Gecko) Chrome/84.0.4147.125 Safari/537.36'\n",
    "}\n",
    "\n",
    "url = 'https://www.ptt.cc/bbs/movie/index.html'\n",
    "\n",
    "res = requests.get(url=url, headers=headers) # get response -> <Response [200]>\n",
    "\n",
    "html = res.text # html string\n",
    "\n",
    "soup = BeautifulSoup(html, 'html.parser')"
   ]
  },
  {
   "cell_type": "code",
   "execution_count": 15,
   "metadata": {
    "scrolled": true
   },
   "outputs": [
    {
     "name": "stdout",
     "output_type": "stream",
     "text": [
      "[<a href=\"/bbs/movie/M.1598034749.A.785.html\">[討論] 《黑亞當》、查導JL、《神力女超人2》</a>]\n",
      "[討論] 《黑亞當》、查導JL、《神力女超人2》\n",
      "https://www.ptt.cc/bbs/movie/M.1598034749.A.785.html\n",
      "========\n",
      "[<a href=\"/bbs/movie/M.1598035880.A.0D8.html\">[問片] 問一個洋片，想到失眠啦</a>]\n",
      "[問片] 問一個洋片，想到失眠啦\n",
      "https://www.ptt.cc/bbs/movie/M.1598035880.A.0D8.html\n",
      "========\n",
      "[<a href=\"/bbs/movie/M.1598035978.A.B53.html\">[新聞] 《八佰》今上映影評兩極 網友吐槽..楊惠</a>]\n",
      "[新聞] 《八佰》今上映影評兩極 網友吐槽..楊惠\n",
      "https://www.ptt.cc/bbs/movie/M.1598035978.A.B53.html\n",
      "========\n",
      "[<a href=\"/bbs/movie/M.1598037228.A.252.html\">Fw: [閒聊] 追逐繁星的孩子是發生什麼事了啊？？？(雷)</a>]\n",
      "Fw: [閒聊] 追逐繁星的孩子是發生什麼事了啊？？？(雷)\n",
      "https://www.ptt.cc/bbs/movie/M.1598037228.A.252.html\n",
      "========\n",
      "[<a href=\"/bbs/movie/M.1598042186.A.95F.html\">[有雷] 《人間蒸發》停在真假的十字路口</a>]\n",
      "[有雷] 《人間蒸發》停在真假的十字路口\n",
      "https://www.ptt.cc/bbs/movie/M.1598042186.A.95F.html\n",
      "========\n",
      "[<a href=\"/bbs/movie/M.1598048671.A.B15.html\">[新聞] 約翰大衛《天能》狂操2個半月</a>]\n",
      "[新聞] 約翰大衛《天能》狂操2個半月\n",
      "https://www.ptt.cc/bbs/movie/M.1598048671.A.B15.html\n",
      "========\n",
      "[<a href=\"/bbs/movie/M.1598049201.A.033.html\">Re: [討論] 港片怎麼了?</a>]\n",
      "Re: [討論] 港片怎麼了?\n",
      "https://www.ptt.cc/bbs/movie/M.1598049201.A.033.html\n",
      "========\n",
      "[<a href=\"/bbs/movie/M.1598060802.A.C29.html\">[討論]超危險駕駛:國外專業素人影評嚴重分歧</a>]\n",
      "[討論]超危險駕駛:國外專業素人影評嚴重分歧\n",
      "https://www.ptt.cc/bbs/movie/M.1598060802.A.C29.html\n",
      "========\n",
      "[<a href=\"/bbs/movie/M.1598061704.A.67A.html\">Re: [討論] 台灣電影怎麼了?</a>]\n",
      "Re: [討論] 台灣電影怎麼了?\n",
      "https://www.ptt.cc/bbs/movie/M.1598061704.A.67A.html\n",
      "========\n",
      "[<a href=\"/bbs/movie/M.1598063610.A.51F.html\">[大負雷] 韓國喪屍片：活著 格局小還爛到不行 </a>]\n",
      "[大負雷] 韓國喪屍片：活著 格局小還爛到不行 \n",
      "https://www.ptt.cc/bbs/movie/M.1598063610.A.51F.html\n",
      "========\n",
      "[]\n",
      "========\n",
      "[<a href=\"/bbs/movie/M.1598063811.A.1E3.html\">[新聞] 諾蘭跌落神壇？《天能》首波媒體評價兩極</a>]\n",
      "[新聞] 諾蘭跌落神壇？《天能》首波媒體評價兩極\n",
      "https://www.ptt.cc/bbs/movie/M.1598063811.A.1E3.html\n",
      "========\n",
      "[<a href=\"/bbs/movie/M.1559611458.A.DCA.html\">[公告] 板規 2020/03/01 (增加14.1)</a>]\n",
      "[公告] 板規 2020/03/01 (增加14.1)\n",
      "https://www.ptt.cc/bbs/movie/M.1559611458.A.DCA.html\n",
      "========\n",
      "[<a href=\"/bbs/movie/M.1578684521.A.1B8.html\">[公告] 關於跑步哥</a>]\n",
      "[公告] 關於跑步哥\n",
      "https://www.ptt.cc/bbs/movie/M.1578684521.A.1B8.html\n",
      "========\n",
      "[<a href=\"/bbs/movie/M.1589355894.A.CDD.html\">[情報] 近期院線預計重映片單</a>]\n",
      "[情報] 近期院線預計重映片單\n",
      "https://www.ptt.cc/bbs/movie/M.1589355894.A.CDD.html\n",
      "========\n",
      "[<a href=\"/bbs/movie/M.1596465114.A.0D2.html\">[公告][板規] 電影版申訴與檢舉辦法</a>]\n",
      "[公告][板規] 電影版申訴與檢舉辦法\n",
      "https://www.ptt.cc/bbs/movie/M.1596465114.A.0D2.html\n",
      "========\n",
      "[<a href=\"/bbs/movie/M.1597242609.A.606.html\">[公告] 電影板板規12/08/2020</a>]\n",
      "[公告] 電影板板規12/08/2020\n",
      "https://www.ptt.cc/bbs/movie/M.1597242609.A.606.html\n",
      "========\n"
     ]
    }
   ],
   "source": [
    "title_list = soup.select('div.title')\n",
    "\n",
    "for title_soup in title_list:\n",
    "#     print(title_soup)\n",
    "#     print('===========')\n",
    "    title_tmp_soup = title_soup.select('a')\n",
    "    print(title_tmp_soup)\n",
    "    \n",
    "    if len(title_tmp_soup) == 0:\n",
    "        pass\n",
    "    else:\n",
    "        title = title_tmp_soup[0].text\n",
    "        title_url = 'https://www.ptt.cc' + title_tmp_soup[0]['href']\n",
    "        print(title)\n",
    "        print(title_url)\n",
    "    \n",
    "    print('========')"
   ]
  },
  {
   "cell_type": "code",
   "execution_count": null,
   "metadata": {},
   "outputs": [],
   "source": []
  }
 ],
 "metadata": {
  "kernelspec": {
   "display_name": "Python 3",
   "language": "python",
   "name": "python3"
  },
  "language_info": {
   "codemirror_mode": {
    "name": "ipython",
    "version": 3
   },
   "file_extension": ".py",
   "mimetype": "text/x-python",
   "name": "python",
   "nbconvert_exporter": "python",
   "pygments_lexer": "ipython3",
   "version": "3.7.0"
  }
 },
 "nbformat": 4,
 "nbformat_minor": 4
}
