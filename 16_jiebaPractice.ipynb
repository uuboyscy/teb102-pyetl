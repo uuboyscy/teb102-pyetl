{
 "cells": [
  {
   "cell_type": "code",
   "execution_count": 1,
   "metadata": {},
   "outputs": [
    {
     "name": "stdout",
     "output_type": "stream",
     "text": [
      "Collecting jieba\n",
      "  Using cached https://files.pythonhosted.org/packages/c6/cb/18eeb235f833b726522d7ebed54f2278ce28ba9438e3135ab0278d9792a2/jieba-0.42.1.tar.gz\n",
      "Installing collected packages: jieba\n",
      "  Running setup.py install for jieba ... \u001b[?25ldone\n",
      "\u001b[?25hSuccessfully installed jieba-0.42.1\n"
     ]
    }
   ],
   "source": [
    "!pip install jieba"
   ]
  },
  {
   "cell_type": "code",
   "execution_count": 2,
   "metadata": {},
   "outputs": [],
   "source": [
    "import jieba"
   ]
  },
  {
   "cell_type": "code",
   "execution_count": 3,
   "metadata": {},
   "outputs": [
    {
     "name": "stderr",
     "output_type": "stream",
     "text": [
      "Building prefix dict from the default dictionary ...\n",
      "Dumping model to file cache /var/folders/bv/8bbkzq895db366kq27vw262r0000gn/T/jieba.cache\n",
      "Loading model cost 0.922 seconds.\n",
      "Prefix dict has been built successfully.\n"
     ]
    },
    {
     "name": "stdout",
     "output_type": "stream",
     "text": [
      "大家 | 好 | ， | 我 | 叫 | 小 | 賀 | ， | 今天 | 來 | 台北 | 北商 | 業 | 大 | 學 | 大 | 數 | 據 | 班上 | 課 | ， | 覺 | 得 | 非常 | 開 | 心\n",
      "大家 | 好 | ， | 我 | 叫 | 小賀 | ， | 今天 | 來 | 台北 | 商業 | 大學大數 | 據 | 班上 | 課 | ， | 覺得 | 非常 | 開心\n",
      "大家 | 好 | ， | 我 | 叫 | 小賀 | ， | 今天 | 來 | 台北 | 商業 | 大學大數 | 據 | 班上 | 課 | ， | 覺得 | 非常 | 開心\n",
      "大家 | 好 | ， | 我 | 叫 | 小賀 | ， | 今天 | 來 | 台北 | 商業 | 大學大數 | 據 | 班上 | 課 | ， | 覺得 | 非常 | 開心\n"
     ]
    }
   ],
   "source": [
    "s = '大家好，我叫小賀，今天來台北商業大學大數據班上課，覺得非常開心'\n",
    "\n",
    "s1_list = jieba.cut(s, cut_all=True)\n",
    "s2_list = jieba.cut(s, cut_all=False)\n",
    "s3_list = jieba.cut(s)\n",
    "s4_list = jieba.cut_for_search(s)\n",
    "\n",
    "print(' | '.join(s1_list))\n",
    "print(' | '.join(s2_list))\n",
    "print(' | '.join(s3_list))\n",
    "print(' | '.join(s4_list))"
   ]
  },
  {
   "cell_type": "code",
   "execution_count": 4,
   "metadata": {},
   "outputs": [],
   "source": [
    "s3_list = jieba.cut(s)"
   ]
  },
  {
   "cell_type": "code",
   "execution_count": 5,
   "metadata": {},
   "outputs": [
    {
     "data": {
      "text/plain": [
       "<generator object Tokenizer.cut at 0x7fb3a063fed0>"
      ]
     },
     "execution_count": 5,
     "metadata": {},
     "output_type": "execute_result"
    }
   ],
   "source": [
    "s3_list"
   ]
  },
  {
   "cell_type": "code",
   "execution_count": 6,
   "metadata": {},
   "outputs": [
    {
     "data": {
      "text/plain": [
       "'大家 | 好 | ， | 我 | 叫 | 小賀 | ， | 今天 | 來 | 台北 | 商業 | 大學大數 | 據 | 班上 | 課 | ， | 覺得 | 非常 | 開心'"
      ]
     },
     "execution_count": 6,
     "metadata": {},
     "output_type": "execute_result"
    }
   ],
   "source": [
    "' | '.join(s3_list)"
   ]
  },
  {
   "cell_type": "code",
   "execution_count": 7,
   "metadata": {},
   "outputs": [
    {
     "data": {
      "text/plain": [
       "''"
      ]
     },
     "execution_count": 7,
     "metadata": {},
     "output_type": "execute_result"
    }
   ],
   "source": [
    "' | '.join(s3_list)"
   ]
  },
  {
   "cell_type": "code",
   "execution_count": 8,
   "metadata": {},
   "outputs": [
    {
     "name": "stdout",
     "output_type": "stream",
     "text": [
      "大家\n",
      "好\n",
      "，\n",
      "我\n",
      "叫\n",
      "小賀\n",
      "，\n",
      "今天\n",
      "來\n",
      "台北\n",
      "商業\n",
      "大學大數\n",
      "據\n",
      "班上\n",
      "課\n",
      "，\n",
      "覺得\n",
      "非常\n",
      "開心\n"
     ]
    }
   ],
   "source": [
    "s3_list = jieba.cut(s)\n",
    "for i in s3_list:\n",
    "    print(i)"
   ]
  },
  {
   "cell_type": "code",
   "execution_count": 9,
   "metadata": {},
   "outputs": [],
   "source": [
    "for i in s3_list:\n",
    "    print(i)"
   ]
  },
  {
   "cell_type": "code",
   "execution_count": 10,
   "metadata": {},
   "outputs": [],
   "source": [
    "jieba.load_userdict('./mydict.txt')"
   ]
  },
  {
   "cell_type": "code",
   "execution_count": 11,
   "metadata": {},
   "outputs": [
    {
     "name": "stdout",
     "output_type": "stream",
     "text": [
      "大家 | 好 | ， | 我 | 叫 | 小 | 賀 | ， | 今天 | 來 | 台北 | 台北商業大學 | 北商 | 業 | 大 | 學 | 大數據 | 班上 | 課 | ， | 覺 | 得 | 非常 | 開 | 心\n",
      "大家 | 好 | ， | 我 | 叫 | 小賀 | ， | 今天 | 來 | 台北商業大學 | 大數據 | 班上 | 課 | ， | 覺得 | 非常 | 開心\n",
      "大家 | 好 | ， | 我 | 叫 | 小賀 | ， | 今天 | 來 | 台北商業大學 | 大數據 | 班上 | 課 | ， | 覺得 | 非常 | 開心\n",
      "大家 | 好 | ， | 我 | 叫 | 小賀 | ， | 今天 | 來 | 台北 | 北商 | 台北商業大學 | 大數據 | 班上 | 課 | ， | 覺得 | 非常 | 開心\n"
     ]
    }
   ],
   "source": [
    "s = '大家好，我叫小賀，今天來台北商業大學大數據班上課，覺得非常開心'\n",
    "\n",
    "s1_list = jieba.cut(s, cut_all=True)\n",
    "s2_list = jieba.cut(s, cut_all=False)\n",
    "s3_list = jieba.cut(s)\n",
    "s4_list = jieba.cut_for_search(s)\n",
    "\n",
    "print(' | '.join(s1_list))\n",
    "print(' | '.join(s2_list))\n",
    "print(' | '.join(s3_list))\n",
    "print(' | '.join(s4_list))"
   ]
  },
  {
   "cell_type": "code",
   "execution_count": null,
   "metadata": {},
   "outputs": [],
   "source": []
  }
 ],
 "metadata": {
  "kernelspec": {
   "display_name": "Python 3",
   "language": "python",
   "name": "python3"
  },
  "language_info": {
   "codemirror_mode": {
    "name": "ipython",
    "version": 3
   },
   "file_extension": ".py",
   "mimetype": "text/x-python",
   "name": "python",
   "nbconvert_exporter": "python",
   "pygments_lexer": "ipython3",
   "version": "3.7.0"
  }
 },
 "nbformat": 4,
 "nbformat_minor": 4
}
