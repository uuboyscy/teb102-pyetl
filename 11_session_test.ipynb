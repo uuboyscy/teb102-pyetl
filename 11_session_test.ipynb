{
 "cells": [
  {
   "cell_type": "code",
   "execution_count": 5,
   "metadata": {
    "scrolled": true
   },
   "outputs": [
    {
     "name": "stdout",
     "output_type": "stream",
     "text": [
      "\n",
      "        <!doctype html>\n",
      "        <html>\n",
      "            <head>\n",
      "                <title>HOMEWORK</title>\n",
      "                <meta name=\"viewport\" content=\"width=device-width, initial-scale=1.0\">\n",
      "                <link rel=\"stylesheet\" href=\"https://maxcdn.bootstrapcdn.com/bootstrap/3.3.7/css/bootstrap.min.css\">\n",
      "                <link rel=\"stylesheet\" href=\"https://www.w3schools.com/w3css/4/w3.css\">\n",
      "            </head>\n",
      "            <body>\n",
      "            <div class=\"w3-animate-opacity\">\n",
      "        \n",
      "        <div>\n",
      "            觀察 cookies \n",
      "        </div>\n",
      "        <div>\n",
      "            觀察 form data \n",
      "        </div>\n",
      "        <div>\n",
      "            觀察 hidden value 與cookies 的關係\n",
      "        </div>\n",
      "        <div>\n",
      "            使用 session\n",
      "        </div>\n",
      "        <div>\n",
      "            <a href=\"https://github.com/uuboyscy/course-PyETL\">\n",
      "                兩天爬蟲的範例程式碼 https://github.com/uuboyscy/course-PyETL\n",
      "            </a>\n",
      "        </div>\n",
      "        \n",
      "        <form action=\"/practice/teb102\" method=\"post\">\n",
      "            <div>\n",
      "                <label for=\"pwd\">Name:</label>\n",
      "                <input name=\"pwd\" type=\"textbox\" id=\"pwd\">\n",
      "            </div>\n",
      "            <div>\n",
      "                <input name=\"_hidden_info\" type=\"hidden\" value=\"4794257406\">\n",
      "            </div>\n",
      "            <div>\n",
      "                <input type=\"submit\" value=\"Submit\">\n",
      "            </div>\n",
      "        </form>\n",
      "        \n",
      "            </div>\n",
      "            </body>\n",
      "        </html>\n",
      "        \n",
      "_hidden_info 4794257406\n",
      "{\n",
      "  \"Status\": \"OK\", \n",
      "  \"td\": 0.5468504428863525\n",
      "}\n",
      "\n"
     ]
    }
   ],
   "source": [
    "import requests\n",
    "from bs4 import BeautifulSoup\n",
    "\n",
    "url = 'http://76d79d7595c2.ngrok.io/practice/teb102'\n",
    "\n",
    "headers = {'user-agent': '123'}\n",
    "\n",
    "ss = requests.session()\n",
    "\n",
    "res = ss.get(url, headers=headers)\n",
    "print(res.text)\n",
    "soup = BeautifulSoup(res.text, 'html.parser')\n",
    "key = soup.select('input')[1]['name']\n",
    "value = soup.select('input')[1]['value']\n",
    "print(key, value)\n",
    "\n",
    "data = {key: value, 'pwd': 'name123'}\n",
    "res = ss.post(url, data=data, headers=headers)\n",
    "print(res.text)"
   ]
  },
  {
   "cell_type": "code",
   "execution_count": null,
   "metadata": {},
   "outputs": [],
   "source": []
  }
 ],
 "metadata": {
  "kernelspec": {
   "display_name": "Python 3",
   "language": "python",
   "name": "python3"
  },
  "language_info": {
   "codemirror_mode": {
    "name": "ipython",
    "version": 3
   },
   "file_extension": ".py",
   "mimetype": "text/x-python",
   "name": "python",
   "nbconvert_exporter": "python",
   "pygments_lexer": "ipython3",
   "version": "3.7.0"
  }
 },
 "nbformat": 4,
 "nbformat_minor": 4
}
