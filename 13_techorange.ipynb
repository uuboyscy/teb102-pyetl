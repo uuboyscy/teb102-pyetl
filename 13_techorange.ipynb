{
 "cells": [
  {
   "cell_type": "code",
   "execution_count": 1,
   "metadata": {},
   "outputs": [],
   "source": [
    "import requests\n",
    "import json\n",
    "from bs4 import BeautifulSoup\n",
    "\n",
    "headers = {\n",
    "    'User-Agent': 'Mozilla/5.0 (Macintosh; Intel Mac OS X 10_15_5) AppleWebKit/537.36 (KHTML, like Gecko) Chrome/84.0.4147.125 Safari/537.36'\n",
    "}\n",
    "\n",
    "url = 'https://buzzorange.com/techorange/wp-admin/admin-ajax.php'\n",
    "\n",
    "data = {\n",
    "    'action': 'fm_ajax_load_more',\n",
    "    'nonce': '614dd27915',\n",
    "    'page': 11\n",
    "}\n",
    "\n",
    "\"\"\"action: fm_ajax_load_more\n",
    "nonce: 614dd27915\n",
    "page: 2\"\"\"\n",
    "\n",
    "\"\"\"action: fm_ajax_load_more\n",
    "nonce: 614dd27915\n",
    "page: 3\"\"\"\n",
    "\n",
    "res = requests.post(url, data=data, headers=headers)"
   ]
  },
  {
   "cell_type": "code",
   "execution_count": 2,
   "metadata": {},
   "outputs": [
    {
     "name": "stdout",
     "output_type": "stream",
     "text": [
      "{\"success\":true,\"data\":\"<article id=\\\"post-337268\\\" class=\\\"post-337268 type-post status-publish format-standard has-post-thumbnail hentry category-uncategorized tag-36430 tag-36429 tag-19128 tag-33358\\\">\\n\\t\\n\\t\\t<a class=\\\"post-thumbnail nljf\\\" href=\\\"https:\\/\\/buzzorange.com\\/techorange\\/2020\\/08\\/13\\/c_level_meeting_arrangement\\/\\\" aria-hidden=\\\"true\\\" onclick=\\\"ga('send', 'event', 'TO Home Posts', 'Click', '\\u9084\\u5728\\u9031\\u4e00\\u958b\\u5718\\u9ad4\\u6703\\u8b70\\u55ce\\uff1f\\u7ba1\\u7406\\u968e\\u7d1a\\u5fc5\\u5b78\\u300c\\u4ea4\\u932f\\u5f0f\\u884c\\u4e8b\\u66c6\\u300d\\uff0c\\u627e\\u56de\\u6d6a\\u8cbb\\u7684 10 \\u5c0f\\u6642\\uff01', {'nonInteraction': 1});\\\" data-src=\\\"https:\\/\\/buzzorange.com\\/techorange\\/wp-content\\/uploads\\/sites\\/2\\/2020\\/08\\/pexels-the-coach-space-2977547.webp?jpg\\\">&nbsp;<\\/a>\\n\\n\\t\\t\\n\\t<header class=\\\"entry-header\\\">\\n\\t\\t\\n\\t\\t<span class=\\\"posted-on\\\"><span class=\\\"screen-reader-text\\\">Posted on <\\/span><time class=\\\"entry-date published\\\" datetime=\\\"2020-08-13T16:49:41+08:00\\\">2020\\/08\\/13<\\/time><time class=\\\"updated\\\" datetime=\\\"2020-08-13T17:05:38+08:00\\\">2020\\/08\\/13<\\/time><\\/span><h4 class=\\\"entry-title\\\"><a href=\\\"https:\\/\\/buzzorange.com\\/techorange\\/2020\\/08\\/13\\/c_level_meeting_arrangement\\/\\\" onclick=\\\"ga('send', 'event', 'TO Home Posts', 'Click', '\\u9084\\u5728\\u9031\\u4e00\\u958b\\u5718\\u9ad4\\u6703\\u8b70\\u55ce\\uff1f\\u7ba1\\u7406\\u968e\\u7d1a\\u5fc5\\u5b78\\u300c\\u4ea4\\u932f\\u5f0f\\u884c\\u4e8b\\u66c6\\u300d\\uff0c\\u627e\\u56de\\u6d6a\\u8cbb\\u7684 10 \\u5c0f\\u6642\\uff01', {'nonInteraction': 1});\\\" rel=\\\"bookmark\\\">\\u9084\\u5728\\u9031\\u4e00\\u958b\\u5718\\u9ad4\\u6703\\u8b70\\u55ce\\uff1f\\u7ba1\\u7406\\u968e\\u7d1a\\u5fc5\\u5b78\\u300c\\u4ea4\\u932f\\u5f0f\\u884c\\u4e8b\\u66c6\\u300d\\uff0c\\u627e\\u56de\\u6d6a\\u8cbb\\u7684 10 \\u5c0f\\u6642\\uff01<\\/a><\\/h4>\\t<\\/header><!-- .entry-header -->\\n\\n\\t\\n\\t<footer class=\\\"entry-footer\\\">\\n\\t\\t<span class=\\\"posted-on\\\"><span class=\\\"screen-reader-text\\\">Posted on <\\/span><time class=\\\"entry-date published\\\" datetime=\\\"2020-08-13T16:49:41+08:00\\\">2020\\/08\\/13<\\/time><time class=\\\"updated\\\" datetime=\\\"2020-08-13T17:05:38+08:00\\\">2020\\/08\\/13<\\/time><\\/span>\\t\\t<span class=\\\"shareCount\\\">64 \\u5206\\u4eab<\\/span>\\n\\t<\\/footer><!-- .entry-footer -->\\n<\\/article><!-- #post-## -->\\n<article id=\\\"post-337196\\\" class=\\\"post-337196 type-post status-publish format-standard has-post-thumbnail hentry category-uncategorized tag-excel tag-17047 tag-36424 tag-14511\\\">\\n\\t\\n\\t\\t<a class=\\\"post-thumbnail nljf\\\" href=\\\"https:\\/\\/buzzorange.com\\/techorange\\/2020\\/08\\/13\\/27-genes-renamed-because-of-excel\\/\\\" aria-hidden=\\\"true\\\" onclick=\\\"ga('send', 'event', 'TO Home Posts', 'Click', '\\u3010Excel \\u8d8a\\u6539\\u8d8a\\u96e3\\u7528\\uff1f\\u3011\\u79d1\\u5b78\\u5bb6\\u6539\\u4e0d\\u4e86 Excel \\u683c\\u5f0f\\uff0c\\u53ea\\u597d\\u91cd\\u65b0\\u547d\\u540d 27 \\u7a2e\\u4eba\\u985e\\u57fa\\u56e0', {'nonInteraction': 1});\\\" data-src=\\\"https:\\/\\/buzzorange.com\\/techorange\\/wp-content\\/uploads\\/sites\\/2\\/2020\\/08\\/dna-1811955_1280.webp?jpg\\\">&nbsp;<\\/a>\\n\\n\\t\\t\\n\\t<header class=\\\"entry-header\\\">\\n\\t\\t\\n\\t\\t<span class=\\\"posted-on\\\"><span class=\\\"screen-reader-text\\\">Posted on <\\/span><time class=\\\"entry-date published\\\" datetime=\\\"2020-08-13T14:34:23+08:00\\\">2020\\/08\\/13<\\/time><time class=\\\"updated\\\" datetime=\\\"2020-08-13T16:37:52+08:00\\\">2020\\/08\\/13<\\/time><\\/span><h4 class=\\\"entry-title\\\"><a href=\\\"https:\\/\\/buzzorange.com\\/techorange\\/2020\\/08\\/13\\/27-genes-renamed-because-of-excel\\/\\\" onclick=\\\"ga('send', 'event', 'TO Home Posts', 'Click', '\\u3010Excel \\u8d8a\\u6539\\u8d8a\\u96e3\\u7528\\uff1f\\u3011\\u79d1\\u5b78\\u5bb6\\u6539\\u4e0d\\u4e86 Excel \\u683c\\u5f0f\\uff0c\\u53ea\\u597d\\u91cd\\u65b0\\u547d\\u540d 27 \\u7a2e\\u4eba\\u985e\\u57fa\\u56e0', {'nonInteraction': 1});\\\" rel=\\\"bookmark\\\">\\u3010Excel \\u8d8a\\u6539\\u8d8a\\u96e3\\u7528\\uff1f\\u3011\\u79d1\\u5b78\\u5bb6\\u6539\\u4e0d\\u4e86 Excel \\u683c\\u5f0f\\uff0c\\u53ea\\u597d\\u91cd\\u65b0\\u547d\\u540d 27 \\u7a2e\\u4eba\\u985e\\u57fa\\u56e0<\\/a><\\/h4>\\t<\\/header><!-- .entry-header -->\\n\\n\\t\\n\\t<footer class=\\\"entry-footer\\\">\\n\\t\\t<span class=\\\"posted-on\\\"><span class=\\\"screen-reader-text\\\">Posted on <\\/span><time class=\\\"entry-date published\\\" datetime=\\\"2020-08-13T14:34:23+08:00\\\">2020\\/08\\/13<\\/time><time class=\\\"updated\\\" datetime=\\\"2020-08-13T16:37:52+08:00\\\">2020\\/08\\/13<\\/time><\\/span>\\t\\t<span class=\\\"shareCount\\\">1.4 K \\u5206\\u4eab<\\/span>\\n\\t<\\/footer><!-- .entry-footer -->\\n<\\/article><!-- #post-## -->\\n<article id=\\\"post-337221\\\" class=\\\"post-337221 type-post status-publish format-standard has-post-thumbnail hentry category-uncategorized tag-g-suite tag-google-classroom tag-google-for-education tag-the-anywhere-school tag-15712 tag-17480\\\">\\n\\t\\n\\t\\t<a class=\\\"post-thumbnail nljf\\\" href=\\\"https:\\/\\/buzzorange.com\\/techorange\\/2020\\/08\\/13\\/the-anywhere-school-50-google-for-education-updates\\/\\\" aria-hidden=\\\"true\\\" onclick=\\\"ga('send', 'event', 'TO Home Posts', 'Click', '\\u3010Ctrl+C \\u4e0d\\u80fd\\u518d\\u7528\\u4e86\\uff1f\\u3011Google \\u63a8 50+ \\u6559\\u80b2\\u65b0\\u529f\\u80fd\\uff0c\\u53ef\\u5c0d\\u7167\\u5b78\\u751f\\u4f5c\\u696d\\u3001\\u6293\\u5305\\u6284\\u8972', {'nonInteraction': 1});\\\" data-src=\\\"https:\\/\\/buzzorange.com\\/techorange\\/wp-content\\/uploads\\/sites\\/2\\/2020\\/08\\/google.webp?png\\\">&nbsp;<\\/a>\\n\\n\\t\\t\\n\\t<header class=\\\"entry-header\\\">\\n\\t\\t\\n\\t\\t<span class=\\\"posted-on\\\"><span class=\\\"screen-reader-text\\\">Posted on <\\/span><time class=\\\"entry-date published updated\\\" datetime=\\\"2020-08-13T14:09:33+08:00\\\">2020\\/08\\/13<\\/time><\\/span><h4 class=\\\"entry-title\\\"><a href=\\\"https:\\/\\/buzzorange.com\\/techorange\\/2020\\/08\\/13\\/the-anywhere-school-50-google-for-education-updates\\/\\\" onclick=\\\"ga('send', 'event', 'TO Home Posts', 'Click', '\\u3010Ctrl+C \\u4e0d\\u80fd\\u518d\\u7528\\u4e86\\uff1f\\u3011Google \\u63a8 50+ \\u6559\\u80b2\\u65b0\\u529f\\u80fd\\uff0c\\u53ef\\u5c0d\\u7167\\u5b78\\u751f\\u4f5c\\u696d\\u3001\\u6293\\u5305\\u6284\\u8972', {'nonInteraction': 1});\\\" rel=\\\"bookmark\\\">\\u3010Ctrl+C \\u4e0d\\u80fd\\u518d\\u7528\\u4e86\\uff1f\\u3011Google \\u63a8 50+ \\u6559\\u80b2\\u65b0\\u529f\\u80fd\\uff0c\\u53ef\\u5c0d\\u7167\\u5b78\\u751f\\u4f5c\\u696d\\u3001\\u6293\\u5305\\u6284\\u8972<\\/a><\\/h4>\\t<\\/header><!-- .entry-header -->\\n\\n\\t\\n\\t<footer class=\\\"entry-footer\\\">\\n\\t\\t<span class=\\\"posted-on\\\"><span class=\\\"screen-reader-text\\\">Posted on <\\/span><time class=\\\"entry-date published updated\\\" datetime=\\\"2020-08-13T14:09:33+08:00\\\">2020\\/08\\/13<\\/time><\\/span>\\t\\t<span class=\\\"shareCount\\\">343 \\u5206\\u4eab<\\/span>\\n\\t<\\/footer><!-- .entry-footer -->\\n<\\/article><!-- #post-## -->\\n<article id=\\\"post-337170\\\" class=\\\"post-337170 type-post status-publish format-standard has-post-thumbnail hentry category-uncategorized category-noarticleads tag-brand_5g tag-6g tag-mmwave tag-36426 tag-27540\\\">\\n\\t\\n\\t\\t<a class=\\\"post-thumbnail nljf\\\" href=\\\"https:\\/\\/buzzorange.com\\/techorange\\/2020\\/08\\/13\\/skip-5g-develop-6g-impossible\\/\\\" aria-hidden=\\\"true\\\" onclick=\\\"ga('send', 'event', 'TO Home Posts', 'Click', '\\u60f3\\u8df3\\u904e 5G \\u76f4\\u63a5\\u767c\\u5c55 6G \\u6709\\u53ef\\u80fd\\u55ce\\uff1f\\u5c08\\u5bb6\\uff1a\\u5c31\\u50cf\\u4e0d\\u6253\\u5730\\u57fa\\uff0c\\u76f4\\u63a5\\u84cb\\u5927\\u6a13', {'nonInteraction': 1});\\\" data-src=\\\"https:\\/\\/buzzorange.com\\/techorange\\/wp-content\\/uploads\\/sites\\/2\\/2020\\/08\\/6G.webp?png\\\">&nbsp;<\\/a>\\n\\n\\t\\t\\n\\t<header class=\\\"entry-header\\\">\\n\\t\\t\\n\\t\\t<span class=\\\"posted-on\\\"><span class=\\\"screen-reader-text\\\">Posted on <\\/span><time class=\\\"entry-date published\\\" datetime=\\\"2020-08-13T13:28:45+08:00\\\">2020\\/08\\/13<\\/time><time class=\\\"updated\\\" datetime=\\\"2020-08-13T13:40:12+08:00\\\">2020\\/08\\/13<\\/time><\\/span><h4 class=\\\"entry-title\\\"><a href=\\\"https:\\/\\/buzzorange.com\\/techorange\\/2020\\/08\\/13\\/skip-5g-develop-6g-impossible\\/\\\" onclick=\\\"ga('send', 'event', 'TO Home Posts', 'Click', '\\u60f3\\u8df3\\u904e 5G \\u76f4\\u63a5\\u767c\\u5c55 6G \\u6709\\u53ef\\u80fd\\u55ce\\uff1f\\u5c08\\u5bb6\\uff1a\\u5c31\\u50cf\\u4e0d\\u6253\\u5730\\u57fa\\uff0c\\u76f4\\u63a5\\u84cb\\u5927\\u6a13', {'nonInteraction': 1});\\\" rel=\\\"bookmark\\\">\\u60f3\\u8df3\\u904e 5G \\u76f4\\u63a5\\u767c\\u5c55 6G \\u6709\\u53ef\\u80fd\\u55ce\\uff1f\\u5c08\\u5bb6\\uff1a\\u5c31\\u50cf\\u4e0d\\u6253\\u5730\\u57fa\\uff0c\\u76f4\\u63a5\\u84cb\\u5927\\u6a13<\\/a><\\/h4>\\t<\\/header><!-- .entry-header -->\\n\\n\\t\\n\\t<footer class=\\\"entry-footer\\\">\\n\\t\\t<span class=\\\"posted-on\\\"><span class=\\\"screen-reader-text\\\">Posted on <\\/span><time class=\\\"entry-date published\\\" datetime=\\\"2020-08-13T13:28:45+08:00\\\">2020\\/08\\/13<\\/time><time class=\\\"updated\\\" datetime=\\\"2020-08-13T13:40:12+08:00\\\">2020\\/08\\/13<\\/time><\\/span>\\t\\t<span class=\\\"shareCount\\\">67 \\u5206\\u4eab<\\/span>\\n\\t<\\/footer><!-- .entry-footer -->\\n<\\/article><!-- #post-## -->\\n<article id=\\\"post-337037\\\" class=\\\"post-337037 type-post status-publish format-standard has-post-thumbnail hentry category-uncategorized tag-ai tag-idc tag-rpa tag-systalk-ai- tag-36399\\\">\\n\\t\\n\\t\\t<a class=\\\"post-thumbnail nljf\\\" href=\\\"https:\\/\\/buzzorange.com\\/techorange\\/2020\\/08\\/13\\/systalk-rpa-help-you-do-routine-work\\/\\\" aria-hidden=\\\"true\\\" onclick=\\\"ga('send', 'event', 'TO Home Posts', 'Click', '\\u3010\\u4f8b\\u884c\\u5de5\\u4f5c\\u5c31\\u4ea4\\u7d66\\u6a5f\\u5668\\u4eba\\u5427\\uff01\\u3011RPA \\u89e3\\u653e\\u54e1\\u5de5\\u8fd1\\u534a\\u5de5\\u4f5c\\u91cf\\uff0c\\u7121\\u75db\\u5c0e\\u5165\\u79d8\\u8a23\\u5927\\u516c\\u958b', {'nonInteraction': 1});\\\" data-src=\\\"https:\\/\\/buzzorange.com\\/techorange\\/wp-content\\/uploads\\/sites\\/2\\/2020\\/08\\/960x0.webp?jpg\\\">&nbsp;<\\/a>\\n\\n\\t\\t\\n\\t<header class=\\\"entry-header\\\">\\n\\t\\t\\n\\t\\t<span class=\\\"posted-on\\\"><span class=\\\"screen-reader-text\\\">Posted on <\\/span><time class=\\\"entry-date published\\\" datetime=\\\"2020-08-13T11:53:05+08:00\\\">2020\\/08\\/13<\\/time><time class=\\\"updated\\\" datetime=\\\"2020-08-17T14:06:20+08:00\\\">2020\\/08\\/17<\\/time><\\/span><h4 class=\\\"entry-title\\\"><a href=\\\"https:\\/\\/buzzorange.com\\/techorange\\/2020\\/08\\/13\\/systalk-rpa-help-you-do-routine-work\\/\\\" onclick=\\\"ga('send', 'event', 'TO Home Posts', 'Click', '\\u3010\\u4f8b\\u884c\\u5de5\\u4f5c\\u5c31\\u4ea4\\u7d66\\u6a5f\\u5668\\u4eba\\u5427\\uff01\\u3011RPA \\u89e3\\u653e\\u54e1\\u5de5\\u8fd1\\u534a\\u5de5\\u4f5c\\u91cf\\uff0c\\u7121\\u75db\\u5c0e\\u5165\\u79d8\\u8a23\\u5927\\u516c\\u958b', {'nonInteraction': 1});\\\" rel=\\\"bookmark\\\">\\u3010\\u4f8b\\u884c\\u5de5\\u4f5c\\u5c31\\u4ea4\\u7d66\\u6a5f\\u5668\\u4eba\\u5427\\uff01\\u3011RPA \\u89e3\\u653e\\u54e1\\u5de5\\u8fd1\\u534a\\u5de5\\u4f5c\\u91cf\\uff0c\\u7121\\u75db\\u5c0e\\u5165\\u79d8\\u8a23\\u5927\\u516c\\u958b<\\/a><\\/h4>\\t<\\/header><!-- .entry-header -->\\n\\n\\t\\n\\t<footer class=\\\"entry-footer\\\">\\n\\t\\t<span class=\\\"posted-on\\\"><span class=\\\"screen-reader-text\\\">Posted on <\\/span><time class=\\\"entry-date published\\\" datetime=\\\"2020-08-13T11:53:05+08:00\\\">2020\\/08\\/13<\\/time><time class=\\\"updated\\\" datetime=\\\"2020-08-17T14:06:20+08:00\\\">2020\\/08\\/17<\\/time><\\/span>\\t\\t<span class=\\\"shareCount\\\">1.5 K \\u5206\\u4eab<\\/span>\\n\\t<\\/footer><!-- .entry-footer -->\\n<\\/article><!-- #post-## -->\\n<article id=\\\"post-337173\\\" class=\\\"post-337173 type-post status-publish format-standard has-post-thumbnail hentry category-uncategorized tag-brand_android tag-brand_google tag-17615 tag-36419\\\">\\n\\t\\n\\t\\t<a class=\\\"post-thumbnail nljf\\\" href=\\\"https:\\/\\/buzzorange.com\\/techorange\\/2020\\/08\\/13\\/android-earthquake-sensor\\/\\\" aria-hidden=\\\"true\\\" onclick=\\\"ga('send', 'event', 'TO Home Posts', 'Click', '\\u3010\\u5168\\u7403\\u6700\\u5927\\u5730\\u9707\\u5075\\u6e2c\\u7db2\\uff01\\u3011Google \\u5c07\\u4e32\\u9023\\u6578\\u767e\\u842c\\u53f0 Android \\u624b\\u6a5f\\uff0c\\u767c\\u51fa\\u5373\\u6642\\u5730\\u9707\\u8b66\\u5831', {'nonInteraction': 1});\\\" data-src=\\\"https:\\/\\/buzzorange.com\\/techorange\\/wp-content\\/uploads\\/sites\\/2\\/2020\\/08\\/4566x3424_980556133782.webp?jpg\\\">&nbsp;<\\/a>\\n\\n\\t\\t\\n\\t<header class=\\\"entry-header\\\">\\n\\t\\t\\n\\t\\t<span class=\\\"posted-on\\\"><span class=\\\"screen-reader-text\\\">Posted on <\\/span><time class=\\\"entry-date published\\\" datetime=\\\"2020-08-13T11:14:01+08:00\\\">2020\\/08\\/13<\\/time><time class=\\\"updated\\\" datetime=\\\"2020-08-14T10:16:11+08:00\\\">2020\\/08\\/14<\\/time><\\/span><h4 class=\\\"entry-title\\\"><a href=\\\"https:\\/\\/buzzorange.com\\/techorange\\/2020\\/08\\/13\\/android-earthquake-sensor\\/\\\" onclick=\\\"ga('send', 'event', 'TO Home Posts', 'Click', '\\u3010\\u5168\\u7403\\u6700\\u5927\\u5730\\u9707\\u5075\\u6e2c\\u7db2\\uff01\\u3011Google \\u5c07\\u4e32\\u9023\\u6578\\u767e\\u842c\\u53f0 Android \\u624b\\u6a5f\\uff0c\\u767c\\u51fa\\u5373\\u6642\\u5730\\u9707\\u8b66\\u5831', {'nonInteraction': 1});\\\" rel=\\\"bookmark\\\">\\u3010\\u5168\\u7403\\u6700\\u5927\\u5730\\u9707\\u5075\\u6e2c\\u7db2\\uff01\\u3011Google \\u5c07\\u4e32\\u9023\\u6578\\u767e\\u842c\\u53f0 Android \\u624b\\u6a5f\\uff0c\\u767c\\u51fa\\u5373\\u6642\\u5730\\u9707\\u8b66\\u5831<\\/a><\\/h4>\\t<\\/header><!-- .entry-header -->\\n\\n\\t\\n\\t<footer class=\\\"entry-footer\\\">\\n\\t\\t<span class=\\\"posted-on\\\"><span class=\\\"screen-reader-text\\\">Posted on <\\/span><time class=\\\"entry-date published\\\" datetime=\\\"2020-08-13T11:14:01+08:00\\\">2020\\/08\\/13<\\/time><time class=\\\"updated\\\" datetime=\\\"2020-08-14T10:16:11+08:00\\\">2020\\/08\\/14<\\/time><\\/span>\\t\\t<span class=\\\"shareCount\\\">113 \\u5206\\u4eab<\\/span>\\n\\t<\\/footer><!-- .entry-footer -->\\n<\\/article><!-- #post-## -->\\n<article id=\\\"post-337171\\\" class=\\\"post-337171 type-post status-publish format-standard has-post-thumbnail hentry category-uncategorized tag-14520 tag-brand_tsmc tag-18343 tag-36150 tag-14807 tag-foxconn\\\">\\n\\t\\n\\t\\t<a class=\\\"post-thumbnail nljf\\\" href=\\\"https:\\/\\/buzzorange.com\\/techorange\\/2020\\/08\\/13\\/apple-green-supply-chain\\/\\\" aria-hidden=\\\"true\\\" onclick=\\\"ga('send', 'event', 'TO Home Posts', 'Click', '\\u3010\\u4f9b\\u61c9\\u93c8\\u300c\\u7da0\\u300d\\u8d77\\u4f86\\u3011\\u860b\\u679c\\u8a08\\u756b 2030 \\u5e74\\u9054\\u5230\\u78b3\\u4e2d\\u548c\\uff0c\\u53f0\\u7a4d\\u96fb\\u3001\\u9d3b\\u6d77\\u4e5f\\u5f97\\u8ddf\\u8457\\u505a\\uff01', {'nonInteraction': 1});\\\" data-src=\\\"https:\\/\\/buzzorange.com\\/techorange\\/wp-content\\/uploads\\/sites\\/2\\/2020\\/08\\/30b24523f710a1fb9a41ba54cdb44f4c.webp?jpg\\\">&nbsp;<\\/a>\\n\\n\\t\\t\\n\\t<header class=\\\"entry-header\\\">\\n\\t\\t\\n\\t\\t<span class=\\\"posted-on\\\"><span class=\\\"screen-reader-text\\\">Posted on <\\/span><time class=\\\"entry-date published updated\\\" datetime=\\\"2020-08-13T11:01:39+08:00\\\">2020\\/08\\/13<\\/time><\\/span><h4 class=\\\"entry-title\\\"><a href=\\\"https:\\/\\/buzzorange.com\\/techorange\\/2020\\/08\\/13\\/apple-green-supply-chain\\/\\\" onclick=\\\"ga('send', 'event', 'TO Home Posts', 'Click', '\\u3010\\u4f9b\\u61c9\\u93c8\\u300c\\u7da0\\u300d\\u8d77\\u4f86\\u3011\\u860b\\u679c\\u8a08\\u756b 2030 \\u5e74\\u9054\\u5230\\u78b3\\u4e2d\\u548c\\uff0c\\u53f0\\u7a4d\\u96fb\\u3001\\u9d3b\\u6d77\\u4e5f\\u5f97\\u8ddf\\u8457\\u505a\\uff01', {'nonInteraction': 1});\\\" rel=\\\"bookmark\\\">\\u3010\\u4f9b\\u61c9\\u93c8\\u300c\\u7da0\\u300d\\u8d77\\u4f86\\u3011\\u860b\\u679c\\u8a08\\u756b 2030 \\u5e74\\u9054\\u5230\\u78b3\\u4e2d\\u548c\\uff0c\\u53f0\\u7a4d\\u96fb\\u3001\\u9d3b\\u6d77\\u4e5f\\u5f97\\u8ddf\\u8457\\u505a\\uff01<\\/a><\\/h4>\\t<\\/header><!-- .entry-header -->\\n\\n\\t\\n\\t<footer class=\\\"entry-footer\\\">\\n\\t\\t<span class=\\\"posted-on\\\"><span class=\\\"screen-reader-text\\\">Posted on <\\/span><time class=\\\"entry-date published updated\\\" datetime=\\\"2020-08-13T11:01:39+08:00\\\">2020\\/08\\/13<\\/time><\\/span>\\t\\t<span class=\\\"shareCount\\\">237 \\u5206\\u4eab<\\/span>\\n\\t<\\/footer><!-- .entry-footer -->\\n<\\/article><!-- #post-## -->\\n<article id=\\\"post-336832\\\" class=\\\"post-336832 type-post status-publish format-standard has-post-thumbnail hentry category-uncategorized tag-36369 tag-36367 tag-24291 tag-24292 tag-20220 tag-36370 tag-36365 tag-36368 tag-36366\\\">\\n\\t\\n\\t\\t<a class=\\\"post-thumbnail nljf\\\" href=\\\"https:\\/\\/buzzorange.com\\/techorange\\/2020\\/08\\/13\\/aesthetic-transparent-wood\\/\\\" aria-hidden=\\\"true\\\" onclick=\\\"ga('send', 'event', 'TO Home Posts', 'Click', '\\u5805\\u97cc\\u5ea6\\u6bd4\\u6728\\u6750\\u5f37 15 \\u500d\\uff01\\u9727\\u9762\\u900f\\u5149\\u3001\\u6297\\u7d2b\\u5916\\u7dda\\u9084\\u80fd\\u9694\\u71b1\\u7684\\u300c\\u985e\\u73bb\\u7483\\u300d\\u767b\\u4e0a\\u300a\\u81ea\\u7136\\u901a\\u8a0a\\u300b\\u671f\\u520a', {'nonInteraction': 1});\\\" data-src=\\\"https:\\/\\/buzzorange.com\\/techorange\\/wp-content\\/uploads\\/sites\\/2\\/2020\\/08\\/5f2d2541895a9.webp?jpg\\\">&nbsp;<\\/a>\\n\\n\\t\\t\\n\\t<header class=\\\"entry-header\\\">\\n\\t\\t\\n\\t\\t<span class=\\\"posted-on\\\"><span class=\\\"screen-reader-text\\\">Posted on <\\/span><time class=\\\"entry-date published\\\" datetime=\\\"2020-08-13T00:35:32+08:00\\\">2020\\/08\\/13<\\/time><time class=\\\"updated\\\" datetime=\\\"2020-08-13T00:39:00+08:00\\\">2020\\/08\\/13<\\/time><\\/span><h4 class=\\\"entry-title\\\"><a href=\\\"https:\\/\\/buzzorange.com\\/techorange\\/2020\\/08\\/13\\/aesthetic-transparent-wood\\/\\\" onclick=\\\"ga('send', 'event', 'TO Home Posts', 'Click', '\\u5805\\u97cc\\u5ea6\\u6bd4\\u6728\\u6750\\u5f37 15 \\u500d\\uff01\\u9727\\u9762\\u900f\\u5149\\u3001\\u6297\\u7d2b\\u5916\\u7dda\\u9084\\u80fd\\u9694\\u71b1\\u7684\\u300c\\u985e\\u73bb\\u7483\\u300d\\u767b\\u4e0a\\u300a\\u81ea\\u7136\\u901a\\u8a0a\\u300b\\u671f\\u520a', {'nonInteraction': 1});\\\" rel=\\\"bookmark\\\">\\u5805\\u97cc\\u5ea6\\u6bd4\\u6728\\u6750\\u5f37 15 \\u500d\\uff01\\u9727\\u9762\\u900f\\u5149\\u3001\\u6297\\u7d2b\\u5916\\u7dda\\u9084\\u80fd\\u9694\\u71b1\\u7684\\u300c\\u985e\\u73bb\\u7483\\u300d\\u767b\\u4e0a\\u300a\\u81ea\\u7136\\u901a\\u8a0a\\u300b\\u671f\\u520a<\\/a><\\/h4>\\t<\\/header><!-- .entry-header -->\\n\\n\\t\\n\\t<footer class=\\\"entry-footer\\\">\\n\\t\\t<span class=\\\"posted-on\\\"><span class=\\\"screen-reader-text\\\">Posted on <\\/span><time class=\\\"entry-date published\\\" datetime=\\\"2020-08-13T00:35:32+08:00\\\">2020\\/08\\/13<\\/time><time class=\\\"updated\\\" datetime=\\\"2020-08-13T00:39:00+08:00\\\">2020\\/08\\/13<\\/time><\\/span>\\t\\t<span class=\\\"shareCount\\\">51 \\u5206\\u4eab<\\/span>\\n\\t<\\/footer><!-- .entry-footer -->\\n<\\/article><!-- #post-## -->\\n\"}\n"
     ]
    }
   ],
   "source": [
    "print(res.text)"
   ]
  },
  {
   "cell_type": "code",
   "execution_count": 3,
   "metadata": {},
   "outputs": [
    {
     "data": {
      "text/plain": [
       "dict_keys(['success', 'data'])"
      ]
     },
     "execution_count": 3,
     "metadata": {},
     "output_type": "execute_result"
    }
   ],
   "source": [
    "res_json = json.loads(res.text)\n",
    "res_json.keys()"
   ]
  },
  {
   "cell_type": "code",
   "execution_count": 4,
   "metadata": {},
   "outputs": [
    {
     "data": {
      "text/plain": [
       "True"
      ]
     },
     "execution_count": 4,
     "metadata": {},
     "output_type": "execute_result"
    }
   ],
   "source": [
    "res_json['success']"
   ]
  },
  {
   "cell_type": "code",
   "execution_count": 5,
   "metadata": {
    "scrolled": true
   },
   "outputs": [
    {
     "name": "stdout",
     "output_type": "stream",
     "text": [
      "<article id=\"post-337268\" class=\"post-337268 type-post status-publish format-standard has-post-thumbnail hentry category-uncategorized tag-36430 tag-36429 tag-19128 tag-33358\">\n",
      "\t\n",
      "\t\t<a class=\"post-thumbnail nljf\" href=\"https://buzzorange.com/techorange/2020/08/13/c_level_meeting_arrangement/\" aria-hidden=\"true\" onclick=\"ga('send', 'event', 'TO Home Posts', 'Click', '還在週一開團體會議嗎？管理階級必學「交錯式行事曆」，找回浪費的 10 小時！', {'nonInteraction': 1});\" data-src=\"https://buzzorange.com/techorange/wp-content/uploads/sites/2/2020/08/pexels-the-coach-space-2977547.webp?jpg\">&nbsp;</a>\n",
      "\n",
      "\t\t\n",
      "\t<header class=\"entry-header\">\n",
      "\t\t\n",
      "\t\t<span class=\"posted-on\"><span class=\"screen-reader-text\">Posted on </span><time class=\"entry-date published\" datetime=\"2020-08-13T16:49:41+08:00\">2020/08/13</time><time class=\"updated\" datetime=\"2020-08-13T17:05:38+08:00\">2020/08/13</time></span><h4 class=\"entry-title\"><a href=\"https://buzzorange.com/techorange/2020/08/13/c_level_meeting_arrangement/\" onclick=\"ga('send', 'event', 'TO Home Posts', 'Click', '還在週一開團體會議嗎？管理階級必學「交錯式行事曆」，找回浪費的 10 小時！', {'nonInteraction': 1});\" rel=\"bookmark\">還在週一開團體會議嗎？管理階級必學「交錯式行事曆」，找回浪費的 10 小時！</a></h4>\t</header><!-- .entry-header -->\n",
      "\n",
      "\t\n",
      "\t<footer class=\"entry-footer\">\n",
      "\t\t<span class=\"posted-on\"><span class=\"screen-reader-text\">Posted on </span><time class=\"entry-date published\" datetime=\"2020-08-13T16:49:41+08:00\">2020/08/13</time><time class=\"updated\" datetime=\"2020-08-13T17:05:38+08:00\">2020/08/13</time></span>\t\t<span class=\"shareCount\">64 分享</span>\n",
      "\t</footer><!-- .entry-footer -->\n",
      "</article><!-- #post-## -->\n",
      "<article id=\"post-337196\" class=\"post-337196 type-post status-publish format-standard has-post-thumbnail hentry category-uncategorized tag-excel tag-17047 tag-36424 tag-14511\">\n",
      "\t\n",
      "\t\t<a class=\"post-thumbnail nljf\" href=\"https://buzzorange.com/techorange/2020/08/13/27-genes-renamed-because-of-excel/\" aria-hidden=\"true\" onclick=\"ga('send', 'event', 'TO Home Posts', 'Click', '【Excel 越改越難用？】科學家改不了 Excel 格式，只好重新命名 27 種人類基因', {'nonInteraction': 1});\" data-src=\"https://buzzorange.com/techorange/wp-content/uploads/sites/2/2020/08/dna-1811955_1280.webp?jpg\">&nbsp;</a>\n",
      "\n",
      "\t\t\n",
      "\t<header class=\"entry-header\">\n",
      "\t\t\n",
      "\t\t<span class=\"posted-on\"><span class=\"screen-reader-text\">Posted on </span><time class=\"entry-date published\" datetime=\"2020-08-13T14:34:23+08:00\">2020/08/13</time><time class=\"updated\" datetime=\"2020-08-13T16:37:52+08:00\">2020/08/13</time></span><h4 class=\"entry-title\"><a href=\"https://buzzorange.com/techorange/2020/08/13/27-genes-renamed-because-of-excel/\" onclick=\"ga('send', 'event', 'TO Home Posts', 'Click', '【Excel 越改越難用？】科學家改不了 Excel 格式，只好重新命名 27 種人類基因', {'nonInteraction': 1});\" rel=\"bookmark\">【Excel 越改越難用？】科學家改不了 Excel 格式，只好重新命名 27 種人類基因</a></h4>\t</header><!-- .entry-header -->\n",
      "\n",
      "\t\n",
      "\t<footer class=\"entry-footer\">\n",
      "\t\t<span class=\"posted-on\"><span class=\"screen-reader-text\">Posted on </span><time class=\"entry-date published\" datetime=\"2020-08-13T14:34:23+08:00\">2020/08/13</time><time class=\"updated\" datetime=\"2020-08-13T16:37:52+08:00\">2020/08/13</time></span>\t\t<span class=\"shareCount\">1.4 K 分享</span>\n",
      "\t</footer><!-- .entry-footer -->\n",
      "</article><!-- #post-## -->\n",
      "<article id=\"post-337221\" class=\"post-337221 type-post status-publish format-standard has-post-thumbnail hentry category-uncategorized tag-g-suite tag-google-classroom tag-google-for-education tag-the-anywhere-school tag-15712 tag-17480\">\n",
      "\t\n",
      "\t\t<a class=\"post-thumbnail nljf\" href=\"https://buzzorange.com/techorange/2020/08/13/the-anywhere-school-50-google-for-education-updates/\" aria-hidden=\"true\" onclick=\"ga('send', 'event', 'TO Home Posts', 'Click', '【Ctrl+C 不能再用了？】Google 推 50+ 教育新功能，可對照學生作業、抓包抄襲', {'nonInteraction': 1});\" data-src=\"https://buzzorange.com/techorange/wp-content/uploads/sites/2/2020/08/google.webp?png\">&nbsp;</a>\n",
      "\n",
      "\t\t\n",
      "\t<header class=\"entry-header\">\n",
      "\t\t\n",
      "\t\t<span class=\"posted-on\"><span class=\"screen-reader-text\">Posted on </span><time class=\"entry-date published updated\" datetime=\"2020-08-13T14:09:33+08:00\">2020/08/13</time></span><h4 class=\"entry-title\"><a href=\"https://buzzorange.com/techorange/2020/08/13/the-anywhere-school-50-google-for-education-updates/\" onclick=\"ga('send', 'event', 'TO Home Posts', 'Click', '【Ctrl+C 不能再用了？】Google 推 50+ 教育新功能，可對照學生作業、抓包抄襲', {'nonInteraction': 1});\" rel=\"bookmark\">【Ctrl+C 不能再用了？】Google 推 50+ 教育新功能，可對照學生作業、抓包抄襲</a></h4>\t</header><!-- .entry-header -->\n",
      "\n",
      "\t\n",
      "\t<footer class=\"entry-footer\">\n",
      "\t\t<span class=\"posted-on\"><span class=\"screen-reader-text\">Posted on </span><time class=\"entry-date published updated\" datetime=\"2020-08-13T14:09:33+08:00\">2020/08/13</time></span>\t\t<span class=\"shareCount\">343 分享</span>\n",
      "\t</footer><!-- .entry-footer -->\n",
      "</article><!-- #post-## -->\n",
      "<article id=\"post-337170\" class=\"post-337170 type-post status-publish format-standard has-post-thumbnail hentry category-uncategorized category-noarticleads tag-brand_5g tag-6g tag-mmwave tag-36426 tag-27540\">\n",
      "\t\n",
      "\t\t<a class=\"post-thumbnail nljf\" href=\"https://buzzorange.com/techorange/2020/08/13/skip-5g-develop-6g-impossible/\" aria-hidden=\"true\" onclick=\"ga('send', 'event', 'TO Home Posts', 'Click', '想跳過 5G 直接發展 6G 有可能嗎？專家：就像不打地基，直接蓋大樓', {'nonInteraction': 1});\" data-src=\"https://buzzorange.com/techorange/wp-content/uploads/sites/2/2020/08/6G.webp?png\">&nbsp;</a>\n",
      "\n",
      "\t\t\n",
      "\t<header class=\"entry-header\">\n",
      "\t\t\n",
      "\t\t<span class=\"posted-on\"><span class=\"screen-reader-text\">Posted on </span><time class=\"entry-date published\" datetime=\"2020-08-13T13:28:45+08:00\">2020/08/13</time><time class=\"updated\" datetime=\"2020-08-13T13:40:12+08:00\">2020/08/13</time></span><h4 class=\"entry-title\"><a href=\"https://buzzorange.com/techorange/2020/08/13/skip-5g-develop-6g-impossible/\" onclick=\"ga('send', 'event', 'TO Home Posts', 'Click', '想跳過 5G 直接發展 6G 有可能嗎？專家：就像不打地基，直接蓋大樓', {'nonInteraction': 1});\" rel=\"bookmark\">想跳過 5G 直接發展 6G 有可能嗎？專家：就像不打地基，直接蓋大樓</a></h4>\t</header><!-- .entry-header -->\n",
      "\n",
      "\t\n",
      "\t<footer class=\"entry-footer\">\n",
      "\t\t<span class=\"posted-on\"><span class=\"screen-reader-text\">Posted on </span><time class=\"entry-date published\" datetime=\"2020-08-13T13:28:45+08:00\">2020/08/13</time><time class=\"updated\" datetime=\"2020-08-13T13:40:12+08:00\">2020/08/13</time></span>\t\t<span class=\"shareCount\">67 分享</span>\n",
      "\t</footer><!-- .entry-footer -->\n",
      "</article><!-- #post-## -->\n",
      "<article id=\"post-337037\" class=\"post-337037 type-post status-publish format-standard has-post-thumbnail hentry category-uncategorized tag-ai tag-idc tag-rpa tag-systalk-ai- tag-36399\">\n",
      "\t\n",
      "\t\t<a class=\"post-thumbnail nljf\" href=\"https://buzzorange.com/techorange/2020/08/13/systalk-rpa-help-you-do-routine-work/\" aria-hidden=\"true\" onclick=\"ga('send', 'event', 'TO Home Posts', 'Click', '【例行工作就交給機器人吧！】RPA 解放員工近半工作量，無痛導入秘訣大公開', {'nonInteraction': 1});\" data-src=\"https://buzzorange.com/techorange/wp-content/uploads/sites/2/2020/08/960x0.webp?jpg\">&nbsp;</a>\n",
      "\n",
      "\t\t\n",
      "\t<header class=\"entry-header\">\n",
      "\t\t\n",
      "\t\t<span class=\"posted-on\"><span class=\"screen-reader-text\">Posted on </span><time class=\"entry-date published\" datetime=\"2020-08-13T11:53:05+08:00\">2020/08/13</time><time class=\"updated\" datetime=\"2020-08-17T14:06:20+08:00\">2020/08/17</time></span><h4 class=\"entry-title\"><a href=\"https://buzzorange.com/techorange/2020/08/13/systalk-rpa-help-you-do-routine-work/\" onclick=\"ga('send', 'event', 'TO Home Posts', 'Click', '【例行工作就交給機器人吧！】RPA 解放員工近半工作量，無痛導入秘訣大公開', {'nonInteraction': 1});\" rel=\"bookmark\">【例行工作就交給機器人吧！】RPA 解放員工近半工作量，無痛導入秘訣大公開</a></h4>\t</header><!-- .entry-header -->\n",
      "\n",
      "\t\n",
      "\t<footer class=\"entry-footer\">\n",
      "\t\t<span class=\"posted-on\"><span class=\"screen-reader-text\">Posted on </span><time class=\"entry-date published\" datetime=\"2020-08-13T11:53:05+08:00\">2020/08/13</time><time class=\"updated\" datetime=\"2020-08-17T14:06:20+08:00\">2020/08/17</time></span>\t\t<span class=\"shareCount\">1.5 K 分享</span>\n",
      "\t</footer><!-- .entry-footer -->\n",
      "</article><!-- #post-## -->\n",
      "<article id=\"post-337173\" class=\"post-337173 type-post status-publish format-standard has-post-thumbnail hentry category-uncategorized tag-brand_android tag-brand_google tag-17615 tag-36419\">\n",
      "\t\n",
      "\t\t<a class=\"post-thumbnail nljf\" href=\"https://buzzorange.com/techorange/2020/08/13/android-earthquake-sensor/\" aria-hidden=\"true\" onclick=\"ga('send', 'event', 'TO Home Posts', 'Click', '【全球最大地震偵測網！】Google 將串連數百萬台 Android 手機，發出即時地震警報', {'nonInteraction': 1});\" data-src=\"https://buzzorange.com/techorange/wp-content/uploads/sites/2/2020/08/4566x3424_980556133782.webp?jpg\">&nbsp;</a>\n",
      "\n",
      "\t\t\n",
      "\t<header class=\"entry-header\">\n",
      "\t\t\n",
      "\t\t<span class=\"posted-on\"><span class=\"screen-reader-text\">Posted on </span><time class=\"entry-date published\" datetime=\"2020-08-13T11:14:01+08:00\">2020/08/13</time><time class=\"updated\" datetime=\"2020-08-14T10:16:11+08:00\">2020/08/14</time></span><h4 class=\"entry-title\"><a href=\"https://buzzorange.com/techorange/2020/08/13/android-earthquake-sensor/\" onclick=\"ga('send', 'event', 'TO Home Posts', 'Click', '【全球最大地震偵測網！】Google 將串連數百萬台 Android 手機，發出即時地震警報', {'nonInteraction': 1});\" rel=\"bookmark\">【全球最大地震偵測網！】Google 將串連數百萬台 Android 手機，發出即時地震警報</a></h4>\t</header><!-- .entry-header -->\n",
      "\n",
      "\t\n",
      "\t<footer class=\"entry-footer\">\n",
      "\t\t<span class=\"posted-on\"><span class=\"screen-reader-text\">Posted on </span><time class=\"entry-date published\" datetime=\"2020-08-13T11:14:01+08:00\">2020/08/13</time><time class=\"updated\" datetime=\"2020-08-14T10:16:11+08:00\">2020/08/14</time></span>\t\t<span class=\"shareCount\">113 分享</span>\n",
      "\t</footer><!-- .entry-footer -->\n",
      "</article><!-- #post-## -->\n",
      "<article id=\"post-337171\" class=\"post-337171 type-post status-publish format-standard has-post-thumbnail hentry category-uncategorized tag-14520 tag-brand_tsmc tag-18343 tag-36150 tag-14807 tag-foxconn\">\n",
      "\t\n",
      "\t\t<a class=\"post-thumbnail nljf\" href=\"https://buzzorange.com/techorange/2020/08/13/apple-green-supply-chain/\" aria-hidden=\"true\" onclick=\"ga('send', 'event', 'TO Home Posts', 'Click', '【供應鏈「綠」起來】蘋果計畫 2030 年達到碳中和，台積電、鴻海也得跟著做！', {'nonInteraction': 1});\" data-src=\"https://buzzorange.com/techorange/wp-content/uploads/sites/2/2020/08/30b24523f710a1fb9a41ba54cdb44f4c.webp?jpg\">&nbsp;</a>\n",
      "\n",
      "\t\t\n",
      "\t<header class=\"entry-header\">\n",
      "\t\t\n",
      "\t\t<span class=\"posted-on\"><span class=\"screen-reader-text\">Posted on </span><time class=\"entry-date published updated\" datetime=\"2020-08-13T11:01:39+08:00\">2020/08/13</time></span><h4 class=\"entry-title\"><a href=\"https://buzzorange.com/techorange/2020/08/13/apple-green-supply-chain/\" onclick=\"ga('send', 'event', 'TO Home Posts', 'Click', '【供應鏈「綠」起來】蘋果計畫 2030 年達到碳中和，台積電、鴻海也得跟著做！', {'nonInteraction': 1});\" rel=\"bookmark\">【供應鏈「綠」起來】蘋果計畫 2030 年達到碳中和，台積電、鴻海也得跟著做！</a></h4>\t</header><!-- .entry-header -->\n",
      "\n",
      "\t\n",
      "\t<footer class=\"entry-footer\">\n",
      "\t\t<span class=\"posted-on\"><span class=\"screen-reader-text\">Posted on </span><time class=\"entry-date published updated\" datetime=\"2020-08-13T11:01:39+08:00\">2020/08/13</time></span>\t\t<span class=\"shareCount\">237 分享</span>\n",
      "\t</footer><!-- .entry-footer -->\n",
      "</article><!-- #post-## -->\n",
      "<article id=\"post-336832\" class=\"post-336832 type-post status-publish format-standard has-post-thumbnail hentry category-uncategorized tag-36369 tag-36367 tag-24291 tag-24292 tag-20220 tag-36370 tag-36365 tag-36368 tag-36366\">\n",
      "\t\n",
      "\t\t<a class=\"post-thumbnail nljf\" href=\"https://buzzorange.com/techorange/2020/08/13/aesthetic-transparent-wood/\" aria-hidden=\"true\" onclick=\"ga('send', 'event', 'TO Home Posts', 'Click', '堅韌度比木材強 15 倍！霧面透光、抗紫外線還能隔熱的「類玻璃」登上《自然通訊》期刊', {'nonInteraction': 1});\" data-src=\"https://buzzorange.com/techorange/wp-content/uploads/sites/2/2020/08/5f2d2541895a9.webp?jpg\">&nbsp;</a>\n",
      "\n",
      "\t\t\n",
      "\t<header class=\"entry-header\">\n",
      "\t\t\n",
      "\t\t<span class=\"posted-on\"><span class=\"screen-reader-text\">Posted on </span><time class=\"entry-date published\" datetime=\"2020-08-13T00:35:32+08:00\">2020/08/13</time><time class=\"updated\" datetime=\"2020-08-13T00:39:00+08:00\">2020/08/13</time></span><h4 class=\"entry-title\"><a href=\"https://buzzorange.com/techorange/2020/08/13/aesthetic-transparent-wood/\" onclick=\"ga('send', 'event', 'TO Home Posts', 'Click', '堅韌度比木材強 15 倍！霧面透光、抗紫外線還能隔熱的「類玻璃」登上《自然通訊》期刊', {'nonInteraction': 1});\" rel=\"bookmark\">堅韌度比木材強 15 倍！霧面透光、抗紫外線還能隔熱的「類玻璃」登上《自然通訊》期刊</a></h4>\t</header><!-- .entry-header -->\n",
      "\n",
      "\t\n",
      "\t<footer class=\"entry-footer\">\n",
      "\t\t<span class=\"posted-on\"><span class=\"screen-reader-text\">Posted on </span><time class=\"entry-date published\" datetime=\"2020-08-13T00:35:32+08:00\">2020/08/13</time><time class=\"updated\" datetime=\"2020-08-13T00:39:00+08:00\">2020/08/13</time></span>\t\t<span class=\"shareCount\">51 分享</span>\n",
      "\t</footer><!-- .entry-footer -->\n",
      "</article><!-- #post-## -->\n",
      "\n"
     ]
    }
   ],
   "source": [
    "print(res_json['data'])"
   ]
  },
  {
   "cell_type": "code",
   "execution_count": 6,
   "metadata": {},
   "outputs": [],
   "source": [
    "soup = BeautifulSoup(res_json['data'], 'html.parser')"
   ]
  },
  {
   "cell_type": "code",
   "execution_count": 7,
   "metadata": {
    "scrolled": true
   },
   "outputs": [
    {
     "data": {
      "text/plain": [
       "[<h4 class=\"entry-title\"><a href=\"https://buzzorange.com/techorange/2020/08/13/c_level_meeting_arrangement/\" onclick=\"ga('send', 'event', 'TO Home Posts', 'Click', '還在週一開團體會議嗎？管理階級必學「交錯式行事曆」，找回浪費的 10 小時！', {'nonInteraction': 1});\" rel=\"bookmark\">還在週一開團體會議嗎？管理階級必學「交錯式行事曆」，找回浪費的 10 小時！</a></h4>,\n",
       " <h4 class=\"entry-title\"><a href=\"https://buzzorange.com/techorange/2020/08/13/27-genes-renamed-because-of-excel/\" onclick=\"ga('send', 'event', 'TO Home Posts', 'Click', '【Excel 越改越難用？】科學家改不了 Excel 格式，只好重新命名 27 種人類基因', {'nonInteraction': 1});\" rel=\"bookmark\">【Excel 越改越難用？】科學家改不了 Excel 格式，只好重新命名 27 種人類基因</a></h4>,\n",
       " <h4 class=\"entry-title\"><a href=\"https://buzzorange.com/techorange/2020/08/13/the-anywhere-school-50-google-for-education-updates/\" onclick=\"ga('send', 'event', 'TO Home Posts', 'Click', '【Ctrl+C 不能再用了？】Google 推 50+ 教育新功能，可對照學生作業、抓包抄襲', {'nonInteraction': 1});\" rel=\"bookmark\">【Ctrl+C 不能再用了？】Google 推 50+ 教育新功能，可對照學生作業、抓包抄襲</a></h4>,\n",
       " <h4 class=\"entry-title\"><a href=\"https://buzzorange.com/techorange/2020/08/13/skip-5g-develop-6g-impossible/\" onclick=\"ga('send', 'event', 'TO Home Posts', 'Click', '想跳過 5G 直接發展 6G 有可能嗎？專家：就像不打地基，直接蓋大樓', {'nonInteraction': 1});\" rel=\"bookmark\">想跳過 5G 直接發展 6G 有可能嗎？專家：就像不打地基，直接蓋大樓</a></h4>,\n",
       " <h4 class=\"entry-title\"><a href=\"https://buzzorange.com/techorange/2020/08/13/systalk-rpa-help-you-do-routine-work/\" onclick=\"ga('send', 'event', 'TO Home Posts', 'Click', '【例行工作就交給機器人吧！】RPA 解放員工近半工作量，無痛導入秘訣大公開', {'nonInteraction': 1});\" rel=\"bookmark\">【例行工作就交給機器人吧！】RPA 解放員工近半工作量，無痛導入秘訣大公開</a></h4>,\n",
       " <h4 class=\"entry-title\"><a href=\"https://buzzorange.com/techorange/2020/08/13/android-earthquake-sensor/\" onclick=\"ga('send', 'event', 'TO Home Posts', 'Click', '【全球最大地震偵測網！】Google 將串連數百萬台 Android 手機，發出即時地震警報', {'nonInteraction': 1});\" rel=\"bookmark\">【全球最大地震偵測網！】Google 將串連數百萬台 Android 手機，發出即時地震警報</a></h4>,\n",
       " <h4 class=\"entry-title\"><a href=\"https://buzzorange.com/techorange/2020/08/13/apple-green-supply-chain/\" onclick=\"ga('send', 'event', 'TO Home Posts', 'Click', '【供應鏈「綠」起來】蘋果計畫 2030 年達到碳中和，台積電、鴻海也得跟著做！', {'nonInteraction': 1});\" rel=\"bookmark\">【供應鏈「綠」起來】蘋果計畫 2030 年達到碳中和，台積電、鴻海也得跟著做！</a></h4>,\n",
       " <h4 class=\"entry-title\"><a href=\"https://buzzorange.com/techorange/2020/08/13/aesthetic-transparent-wood/\" onclick=\"ga('send', 'event', 'TO Home Posts', 'Click', '堅韌度比木材強 15 倍！霧面透光、抗紫外線還能隔熱的「類玻璃」登上《自然通訊》期刊', {'nonInteraction': 1});\" rel=\"bookmark\">堅韌度比木材強 15 倍！霧面透光、抗紫外線還能隔熱的「類玻璃」登上《自然通訊》期刊</a></h4>]"
      ]
     },
     "execution_count": 7,
     "metadata": {},
     "output_type": "execute_result"
    }
   ],
   "source": [
    "soup.select('h4[class=\"entry-title\"]')"
   ]
  },
  {
   "cell_type": "code",
   "execution_count": 8,
   "metadata": {},
   "outputs": [
    {
     "name": "stdout",
     "output_type": "stream",
     "text": [
      "還在週一開團體會議嗎？管理階級必學「交錯式行事曆」，找回浪費的 10 小時！\n",
      "【Excel 越改越難用？】科學家改不了 Excel 格式，只好重新命名 27 種人類基因\n",
      "【Ctrl+C 不能再用了？】Google 推 50+ 教育新功能，可對照學生作業、抓包抄襲\n",
      "想跳過 5G 直接發展 6G 有可能嗎？專家：就像不打地基，直接蓋大樓\n",
      "【例行工作就交給機器人吧！】RPA 解放員工近半工作量，無痛導入秘訣大公開\n",
      "【全球最大地震偵測網！】Google 將串連數百萬台 Android 手機，發出即時地震警報\n",
      "【供應鏈「綠」起來】蘋果計畫 2030 年達到碳中和，台積電、鴻海也得跟著做！\n",
      "堅韌度比木材強 15 倍！霧面透光、抗紫外線還能隔熱的「類玻璃」登上《自然通訊》期刊\n"
     ]
    }
   ],
   "source": [
    "for t in soup.select('h4[class=\"entry-title\"]'):\n",
    "    print(t.a.text)"
   ]
  },
  {
   "cell_type": "code",
   "execution_count": 10,
   "metadata": {
    "scrolled": true
   },
   "outputs": [
    {
     "name": "stdout",
     "output_type": "stream",
     "text": [
      "宅經濟時代下如何讓商品走出去？這些掌握「用戶體驗數據」的品牌走進顧客的心！\n",
      "https://buzzorange.com/techorange/2020/08/21/stay-at-home-economic_aws/\n",
      "【金魚腦救星！】升級版 Wi-Fi「超寬頻」，讓你用 AR 找到你遺失的遙控器\n",
      "https://buzzorange.com/techorange/2020/08/21/ultra-wideband_-technology/\n",
      "面對「加零競速」的 5G 時代，經理人要如何打通管理與領導的任督二脈？\n",
      "https://buzzorange.com/techorange/2020/08/21/5g-era-competition/\n",
      "【後疫情時代看醫療業】被延宕的醫療手術何時開始？誰先開始？\n",
      "https://buzzorange.com/techorange/2020/08/21/surgery-starting-after-covid-19/\n",
      "【外國人也能拿】南韓發行「區塊鏈駕照」領照數突破百萬！一步驟教你怎麼拿\n",
      "https://buzzorange.com/techorange/2020/08/21/blockchain-driver-license/\n",
      "【陳立老師到你家】遠距科技助補教業轉型，虛擬白板怎麼幫千名高中生在家上數學？\n",
      "https://buzzorange.com/techorange/2020/08/21/zoom-support-chenli-math-class/\n",
      "透過外加「磁場」，科學家將量子態時間延長了 1 萬倍！\n",
      "https://buzzorange.com/techorange/2020/08/21/lengthen-quantum-state/\n",
      "【晶片廠與汽車廠需求交集】亞德諾 CEO：汽車業的變革將為半導體業創造巨大商機！\n",
      "https://buzzorange.com/techorange/2020/08/21/semiconductor-and-car/\n",
      "【誰去阻止祖克柏】Instagram 更新推出建議貼文，臉書也要強制更新經典版\n",
      "https://buzzorange.com/techorange/2020/08/21/instagram-suggested-posts/\n",
      "【滅蚊師太開大絕！】美將釋放 7.5 億隻基改蚊子，以蚊滅蚊抑制登革熱\n",
      "https://buzzorange.com/techorange/2020/08/21/genetic-modified-mosquito/\n",
      "【WEB 導流新客，APP 留住熟客】APP 與官網要從哪一個開始經營？\n",
      "https://buzzorange.com/techorange/2020/08/21/app-vs-web-e-commerce-marketing/\n",
      "不只能用真實方向盤玩賽車！馬斯克宣布：以後可以在特斯拉車上玩更多遊戲啦！\n",
      "https://buzzorange.com/techorange/2020/08/21/mario-and-tesla/\n",
      "【物聯網晶片上太空啦！】聯發科完成全球首次 5G 物聯網高軌衛星傳輸，卡位 6G！\n",
      "https://buzzorange.com/techorange/2020/08/21/mtk-5g-satellite/\n",
      "科技人想當金融業副總不是夢！金管會放寬金融業負責人條件，最快 10 月上路\n",
      "https://buzzorange.com/techorange/2020/08/21/fintech-fsc-new-rule/\n",
      "【鬼門開？】照片修復 AI 從街景照還原出雷恩葛斯林的臉，你到底看到什麼！\n",
      "https://buzzorange.com/techorange/2020/08/20/photo_editing_ai_ryan-gosling/\n",
      "【Google SEO 新規則】不要小看「快速網頁」標籤！明年將納入搜尋結果排名標準\n",
      "https://buzzorange.com/techorange/2020/08/20/google-fast-page/\n",
      "【不脫口罩也能解鎖 Face ID？】為減少病毒傳播風險，紐約運輸署要求 Apple 更新功能\n",
      "https://buzzorange.com/techorange/2020/08/20/mta-ask-apple-to-update-face-id/\n",
      "疫情還沒結束股市就創新高，經濟衰退真的結束了嗎？\n",
      "https://buzzorange.com/techorange/2020/08/20/does-recession-ends/\n",
      "大數據與 AI 已可協助檢測自閉症類型，我們能更了解自閉症了嗎？\n",
      "https://buzzorange.com/techorange/2020/08/20/autism/\n",
      "【戲說電力交易】用一根紅蘿蔔的產銷故事，帶你了解台灣電力交易市場現況\n",
      "https://buzzorange.com/techorange/2020/08/20/electricity_trade_market_agriculture_story/\n",
      "【用 AI 做精準行銷！】零售業如何做數位轉型？有 1000 筆資料即可開始！\n",
      "https://buzzorange.com/techorange/2020/08/20/mobagel-ai-think/\n",
      "【更新】Google 旗下多項服務掛點，Gmail 收不到信、Google Drive 服務中斷！\n",
      "https://buzzorange.com/techorange/2020/08/20/google-shutdown/\n",
      "【不是隕石也不是大洪水】地球史上最大物種滅絕事件，可能是超新星爆發導致！\n",
      "https://buzzorange.com/techorange/2020/08/20/supernova-cause-mass-extinction/\n",
      "【台灣「智慧產業」開始佈局】緯創集團領投跨國 AI 新創 iKala，下一步拓展東南亞市場\n",
      "https://buzzorange.com/techorange/2020/08/20/wistron-invest-1700-ikala/\n"
     ]
    }
   ],
   "source": [
    "import requests\n",
    "import json\n",
    "from bs4 import BeautifulSoup\n",
    "\n",
    "headers = {\n",
    "    'User-Agent': 'Mozilla/5.0 (Macintosh; Intel Mac OS X 10_15_5) AppleWebKit/537.36 (KHTML, like Gecko) Chrome/84.0.4147.125 Safari/537.36'\n",
    "}\n",
    "\n",
    "url = 'https://buzzorange.com/techorange/wp-admin/admin-ajax.php'\n",
    "\n",
    "data = {\n",
    "    'action': 'fm_ajax_load_more',\n",
    "    'nonce': '614dd27915',\n",
    "    'page': 11\n",
    "}\n",
    "\n",
    "data['page'] = 1\n",
    "for page in range(0, 3):\n",
    "    res = requests.post(url, data=data, headers=headers)\n",
    "\n",
    "    res_json = json.loads(res.text)\n",
    "\n",
    "    soup = BeautifulSoup(res_json['data'], 'html.parser')\n",
    "\n",
    "    for t in soup.select('h4[class=\"entry-title\"]'):\n",
    "        print(t.a.text)\n",
    "        print(t.a['href'])\n",
    "        \n",
    "    data['page'] += 1"
   ]
  },
  {
   "cell_type": "code",
   "execution_count": null,
   "metadata": {},
   "outputs": [],
   "source": []
  }
 ],
 "metadata": {
  "kernelspec": {
   "display_name": "Python 3",
   "language": "python",
   "name": "python3"
  },
  "language_info": {
   "codemirror_mode": {
    "name": "ipython",
    "version": 3
   },
   "file_extension": ".py",
   "mimetype": "text/x-python",
   "name": "python",
   "nbconvert_exporter": "python",
   "pygments_lexer": "ipython3",
   "version": "3.7.0"
  }
 },
 "nbformat": 4,
 "nbformat_minor": 4
}
