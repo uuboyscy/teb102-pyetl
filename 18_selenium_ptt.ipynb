{
 "cells": [
  {
   "cell_type": "code",
   "execution_count": 6,
   "metadata": {},
   "outputs": [
    {
     "name": "stdout",
     "output_type": "stream",
     "text": [
      "[{'domain': 'www.ptt.cc', 'httpOnly': False, 'name': 'over18', 'path': '/', 'secure': False, 'value': '1'}, {'domain': '.ptt.cc', 'expiry': 1598255108, 'httpOnly': False, 'name': '_gid', 'path': '/', 'secure': False, 'value': 'GA1.2.78333777.1598168707'}, {'domain': '.ptt.cc', 'expiry': 1661240708, 'httpOnly': False, 'name': '_ga', 'path': '/', 'secure': False, 'value': 'GA1.2.1967263709.1598168707'}, {'domain': '.ptt.cc', 'expiry': 1598168766, 'httpOnly': False, 'name': '_gat', 'path': '/', 'secure': False, 'value': '1'}, {'domain': '.ptt.cc', 'expiry': 1598170506, 'httpOnly': True, 'name': '__cf_bm', 'path': '/', 'sameSite': 'None', 'secure': True, 'value': '58242164f3b62dde7d4a993e701bff8eb128edb1-1598168706-1800-AQsk2XfXGM1cDE83+66iHpVU7QzFIHZa/VEBVznra7kCAaaC//NLHsWQaqZdLsFLNdJH0A3UjfqDrHI4uRTJWwo='}, {'domain': '.ptt.cc', 'expiry': 1600760706, 'httpOnly': True, 'name': '__cfduid', 'path': '/', 'sameSite': 'Lax', 'secure': False, 'value': 'd0ed8a19d39e60aaa6b6f0fefcf015ee61598168706'}]\n"
     ]
    }
   ],
   "source": [
    "from selenium.webdriver import Chrome\n",
    "\n",
    "driver = Chrome('./chromedriver')\n",
    "\n",
    "url = 'https://www.ptt.cc/bbs/index.html'\n",
    "\n",
    "driver.get(url)\n",
    "\n",
    "driver.find_element_by_class_name('board-name').click()\n",
    "driver.find_element_by_class_name('btn-big').click()\n",
    "\n",
    "cookie = driver.get_cookies()\n",
    "print(cookie)\n",
    "\n",
    "driver.close()"
   ]
  },
  {
   "cell_type": "code",
   "execution_count": 7,
   "metadata": {},
   "outputs": [
    {
     "data": {
      "text/plain": [
       "<RequestsCookieJar[Cookie(version=0, name='__cf_bm', value='58242164f3b62dde7d4a993e701bff8eb128edb1-1598168706-1800-AQsk2XfXGM1cDE83+66iHpVU7QzFIHZa/VEBVznra7kCAaaC//NLHsWQaqZdLsFLNdJH0A3UjfqDrHI4uRTJWwo=', port=None, port_specified=False, domain='', domain_specified=False, domain_initial_dot=False, path='/', path_specified=True, secure=False, expires=None, discard=True, comment=None, comment_url=None, rest={'HttpOnly': None}, rfc2109=False), Cookie(version=0, name='__cfduid', value='d0ed8a19d39e60aaa6b6f0fefcf015ee61598168706', port=None, port_specified=False, domain='', domain_specified=False, domain_initial_dot=False, path='/', path_specified=True, secure=False, expires=None, discard=True, comment=None, comment_url=None, rest={'HttpOnly': None}, rfc2109=False), Cookie(version=0, name='_ga', value='GA1.2.1967263709.1598168707', port=None, port_specified=False, domain='', domain_specified=False, domain_initial_dot=False, path='/', path_specified=True, secure=False, expires=None, discard=True, comment=None, comment_url=None, rest={'HttpOnly': None}, rfc2109=False), Cookie(version=0, name='_gat', value='1', port=None, port_specified=False, domain='', domain_specified=False, domain_initial_dot=False, path='/', path_specified=True, secure=False, expires=None, discard=True, comment=None, comment_url=None, rest={'HttpOnly': None}, rfc2109=False), Cookie(version=0, name='_gid', value='GA1.2.78333777.1598168707', port=None, port_specified=False, domain='', domain_specified=False, domain_initial_dot=False, path='/', path_specified=True, secure=False, expires=None, discard=True, comment=None, comment_url=None, rest={'HttpOnly': None}, rfc2109=False), Cookie(version=0, name='over18', value='1', port=None, port_specified=False, domain='', domain_specified=False, domain_initial_dot=False, path='/', path_specified=True, secure=False, expires=None, discard=True, comment=None, comment_url=None, rest={'HttpOnly': None}, rfc2109=False)]>"
      ]
     },
     "execution_count": 7,
     "metadata": {},
     "output_type": "execute_result"
    }
   ],
   "source": [
    "import requests\n",
    "\n",
    "ss = requests.session()\n",
    "\n",
    "for i in cookie:\n",
    "    ss.cookies[i['name']] = i['value']\n",
    "\n",
    "ss.cookies"
   ]
  },
  {
   "cell_type": "code",
   "execution_count": 8,
   "metadata": {},
   "outputs": [
    {
     "data": {
      "text/plain": [
       "'<!DOCTYPE html>\\n<html>\\n\\t<head>\\n\\t\\t<meta charset=\"utf-8\">\\n\\t\\t\\n\\n<meta name=\"viewport\" content=\"width=device-width, initial-scale=1\">\\n\\n<title>看板 Gossiping 文章列表 - 批踢踢實業坊</title>\\n\\n<link rel=\"stylesheet\" type=\"text/css\" href=\"//images.ptt.cc/bbs/v2.27/bbs-common.css\">\\n<link rel=\"stylesheet\" type=\"text/css\" href=\"//images.ptt.cc/bbs/v2.27/bbs-base.css\" media=\"screen\">\\n<link rel=\"stylesheet\" type=\"text/css\" href=\"//images.ptt.cc/bbs/v2.27/bbs-custom.css\">\\n<link rel=\"stylesheet\" type=\"text/css\" href=\"//images.ptt.cc/bbs/v2.27/pushstream.css\" media=\"screen\">\\n<link rel=\"stylesheet\" type=\"text/css\" href=\"//images.ptt.cc/bbs/v2.27/bbs-print.css\" media=\"print\">\\n\\n\\n\\n\\n\\t</head>\\n    <body>\\n\\t\\t\\n<div id=\"topbar-container\">\\n\\t<div id=\"topbar\" class=\"bbs-content\">\\n\\t\\t<a id=\"logo\" href=\"/bbs/\">批踢踢實業坊</a>\\n\\t\\t<span>&rsaquo;</span>\\n\\t\\t<a class=\"board\" href=\"/bbs/Gossiping/index.html\"><span class=\"board-label\">看板 </span>Gossiping</a>\\n\\t\\t<a class=\"right small\" href=\"/about.html\">關於我們</a>\\n\\t\\t<a class=\"right small\" href=\"/contact.html\">聯絡資訊</a>\\n\\t</div>\\n</div>\\n\\n<div id=\"main-container\">\\n\\t<div id=\"action-bar-container\">\\n\\t\\t<div class=\"action-bar\">\\n\\t\\t\\t<div class=\"btn-group btn-group-dir\">\\n\\t\\t\\t\\t<a class=\"btn selected\" href=\"/bbs/Gossiping/index.html\">看板</a>\\n\\t\\t\\t\\t<a class=\"btn\" href=\"/man/Gossiping/index.html\">精華區</a>\\n\\t\\t\\t</div>\\n\\t\\t\\t<div class=\"btn-group btn-group-paging\">\\n\\t\\t\\t\\t<a class=\"btn wide\" href=\"/bbs/Gossiping/index1.html\">最舊</a>\\n\\t\\t\\t\\t<a class=\"btn wide\" href=\"/bbs/Gossiping/index38870.html\">&lsaquo; 上頁</a>\\n\\t\\t\\t\\t<a class=\"btn wide disabled\">下頁 &rsaquo;</a>\\n\\t\\t\\t\\t<a class=\"btn wide\" href=\"/bbs/Gossiping/index.html\">最新</a>\\n\\t\\t\\t</div>\\n\\t\\t</div>\\n\\t</div>\\n\\n\\t<div class=\"r-list-container action-bar-margin bbs-screen\">\\n\\t\\t<div class=\"search-bar\">\\n\\t\\t\\t<form type=\"get\" action=\"search\" id=\"search-bar\">\\n\\t\\t\\t\\t<input class=\"query\" type=\"text\" name=\"q\" value=\"\" placeholder=\"搜尋文章&#x22ef;\">\\n\\t\\t\\t</form>\\n\\t\\t</div>\\n\\n\\t\\t\\n\\t\\t\\n            \\n        \\n        \\n\\t\\t<div class=\"r-ent\">\\n\\t\\t\\t<div class=\"nrec\"><span class=\"hl f3\">17</span></div>\\n\\t\\t\\t<div class=\"title\">\\n\\t\\t\\t\\n\\t\\t\\t\\t<a href=\"/bbs/Gossiping/M.1598168594.A.6E0.html\">[新聞] 不甩巴威海警！花蓮男「清水斷崖嬉戲」硬</a>\\n\\t\\t\\t\\n\\t\\t\\t</div>\\n\\t\\t\\t<div class=\"meta\">\\n\\t\\t\\t\\t<div class=\"author\">Israfil</div>\\n\\t\\t\\t\\t<div class=\"article-menu\">\\n\\t\\t\\t\\t\\t\\n\\t\\t\\t\\t\\t<div class=\"trigger\">&#x22ef;</div>\\n\\t\\t\\t\\t\\t<div class=\"dropdown\">\\n\\t\\t\\t\\t\\t\\t<div class=\"item\"><a href=\"/bbs/Gossiping/search?q=thread%3A%5B%E6%96%B0%E8%81%9E%5D&#43;%E4%B8%8D%E7%94%A9%E5%B7%B4%E5%A8%81%E6%B5%B7%E8%AD%A6%EF%BC%81%E8%8A%B1%E8%93%AE%E7%94%B7%E3%80%8C%E6%B8%85%E6%B0%B4%E6%96%B7%E5%B4%96%E5%AC%89%E6%88%B2%E3%80%8D%E7%A1%AC\">搜尋同標題文章</a></div>\\n\\t\\t\\t\\t\\t\\t\\n\\t\\t\\t\\t\\t\\t<div class=\"item\"><a href=\"/bbs/Gossiping/search?q=author%3AIsrafil\">搜尋看板內 Israfil 的文章</a></div>\\n\\t\\t\\t\\t\\t\\t\\n\\t\\t\\t\\t\\t</div>\\n\\t\\t\\t\\t\\t\\n\\t\\t\\t\\t</div>\\n\\t\\t\\t\\t<div class=\"date\"> 8/23</div>\\n\\t\\t\\t\\t<div class=\"mark\"></div>\\n\\t\\t\\t</div>\\n\\t\\t</div>\\n\\n\\t\\t\\n            \\n        \\n        \\n\\t\\t<div class=\"r-ent\">\\n\\t\\t\\t<div class=\"nrec\"></div>\\n\\t\\t\\t<div class=\"title\">\\n\\t\\t\\t\\n\\t\\t\\t\\t<a href=\"/bbs/Gossiping/M.1598168613.A.78B.html\">Re: [新聞] 總統金門追悼八二三砲戰將士AIT處長首度</a>\\n\\t\\t\\t\\n\\t\\t\\t</div>\\n\\t\\t\\t<div class=\"meta\">\\n\\t\\t\\t\\t<div class=\"author\">Jack513991</div>\\n\\t\\t\\t\\t<div class=\"article-menu\">\\n\\t\\t\\t\\t\\t\\n\\t\\t\\t\\t\\t<div class=\"trigger\">&#x22ef;</div>\\n\\t\\t\\t\\t\\t<div class=\"dropdown\">\\n\\t\\t\\t\\t\\t\\t<div class=\"item\"><a href=\"/bbs/Gossiping/search?q=thread%3A%5B%E6%96%B0%E8%81%9E%5D&#43;%E7%B8%BD%E7%B5%B1%E9%87%91%E9%96%80%E8%BF%BD%E6%82%BC%E5%85%AB%E4%BA%8C%E4%B8%89%E7%A0%B2%E6%88%B0%E5%B0%87%E5%A3%ABAIT%E8%99%95%E9%95%B7%E9%A6%96%E5%BA%A6\">搜尋同標題文章</a></div>\\n\\t\\t\\t\\t\\t\\t\\n\\t\\t\\t\\t\\t\\t<div class=\"item\"><a href=\"/bbs/Gossiping/search?q=author%3AJack513991\">搜尋看板內 Jack513991 的文章</a></div>\\n\\t\\t\\t\\t\\t\\t\\n\\t\\t\\t\\t\\t</div>\\n\\t\\t\\t\\t\\t\\n\\t\\t\\t\\t</div>\\n\\t\\t\\t\\t<div class=\"date\"> 8/23</div>\\n\\t\\t\\t\\t<div class=\"mark\"></div>\\n\\t\\t\\t</div>\\n\\t\\t</div>\\n\\n\\t\\t\\n            \\n        \\n        \\n\\t\\t<div class=\"r-ent\">\\n\\t\\t\\t<div class=\"nrec\"><span class=\"hl f2\">3</span></div>\\n\\t\\t\\t<div class=\"title\">\\n\\t\\t\\t\\n\\t\\t\\t\\t<a href=\"/bbs/Gossiping/M.1598168620.A.F3B.html\">[新聞] 一中政策下 北京該還百年老債  </a>\\n\\t\\t\\t\\n\\t\\t\\t</div>\\n\\t\\t\\t<div class=\"meta\">\\n\\t\\t\\t\\t<div class=\"author\">plzza0cats</div>\\n\\t\\t\\t\\t<div class=\"article-menu\">\\n\\t\\t\\t\\t\\t\\n\\t\\t\\t\\t\\t<div class=\"trigger\">&#x22ef;</div>\\n\\t\\t\\t\\t\\t<div class=\"dropdown\">\\n\\t\\t\\t\\t\\t\\t<div class=\"item\"><a href=\"/bbs/Gossiping/search?q=thread%3A%5B%E6%96%B0%E8%81%9E%5D&#43;%E4%B8%80%E4%B8%AD%E6%94%BF%E7%AD%96%E4%B8%8B&#43;%E5%8C%97%E4%BA%AC%E8%A9%B2%E9%82%84%E7%99%BE%E5%B9%B4%E8%80%81%E5%82%B5&#43;&#43;\">搜尋同標題文章</a></div>\\n\\t\\t\\t\\t\\t\\t\\n\\t\\t\\t\\t\\t\\t<div class=\"item\"><a href=\"/bbs/Gossiping/search?q=author%3Aplzza0cats\">搜尋看板內 plzza0cats 的文章</a></div>\\n\\t\\t\\t\\t\\t\\t\\n\\t\\t\\t\\t\\t</div>\\n\\t\\t\\t\\t\\t\\n\\t\\t\\t\\t</div>\\n\\t\\t\\t\\t<div class=\"date\"> 8/23</div>\\n\\t\\t\\t\\t<div class=\"mark\"></div>\\n\\t\\t\\t</div>\\n\\t\\t</div>\\n\\n\\t\\t\\n            \\n        \\n        \\n\\t\\t<div class=\"r-ent\">\\n\\t\\t\\t<div class=\"nrec\"><span class=\"hl f2\">6</span></div>\\n\\t\\t\\t<div class=\"title\">\\n\\t\\t\\t\\n\\t\\t\\t\\t<a href=\"/bbs/Gossiping/M.1598168666.A.F81.html\">[問卦] 非洲班鬣狗的八卦</a>\\n\\t\\t\\t\\n\\t\\t\\t</div>\\n\\t\\t\\t<div class=\"meta\">\\n\\t\\t\\t\\t<div class=\"author\">grace0523</div>\\n\\t\\t\\t\\t<div class=\"article-menu\">\\n\\t\\t\\t\\t\\t\\n\\t\\t\\t\\t\\t<div class=\"trigger\">&#x22ef;</div>\\n\\t\\t\\t\\t\\t<div class=\"dropdown\">\\n\\t\\t\\t\\t\\t\\t<div class=\"item\"><a href=\"/bbs/Gossiping/search?q=thread%3A%5B%E5%95%8F%E5%8D%A6%5D&#43;%E9%9D%9E%E6%B4%B2%E7%8F%AD%E9%AC%A3%E7%8B%97%E7%9A%84%E5%85%AB%E5%8D%A6\">搜尋同標題文章</a></div>\\n\\t\\t\\t\\t\\t\\t\\n\\t\\t\\t\\t\\t\\t<div class=\"item\"><a href=\"/bbs/Gossiping/search?q=author%3Agrace0523\">搜尋看板內 grace0523 的文章</a></div>\\n\\t\\t\\t\\t\\t\\t\\n\\t\\t\\t\\t\\t</div>\\n\\t\\t\\t\\t\\t\\n\\t\\t\\t\\t</div>\\n\\t\\t\\t\\t<div class=\"date\"> 8/23</div>\\n\\t\\t\\t\\t<div class=\"mark\"></div>\\n\\t\\t\\t</div>\\n\\t\\t</div>\\n\\n\\t\\t\\n            \\n        \\n        \\n\\t\\t<div class=\"r-ent\">\\n\\t\\t\\t<div class=\"nrec\"><span class=\"hl f2\">2</span></div>\\n\\t\\t\\t<div class=\"title\">\\n\\t\\t\\t\\n\\t\\t\\t\\t<a href=\"/bbs/Gossiping/M.1598168756.A.504.html\">Re: [問卦] 台灣人50年代後美感發生甚麼事了？</a>\\n\\t\\t\\t\\n\\t\\t\\t</div>\\n\\t\\t\\t<div class=\"meta\">\\n\\t\\t\\t\\t<div class=\"author\">say29217074</div>\\n\\t\\t\\t\\t<div class=\"article-menu\">\\n\\t\\t\\t\\t\\t\\n\\t\\t\\t\\t\\t<div class=\"trigger\">&#x22ef;</div>\\n\\t\\t\\t\\t\\t<div class=\"dropdown\">\\n\\t\\t\\t\\t\\t\\t<div class=\"item\"><a href=\"/bbs/Gossiping/search?q=thread%3A%5B%E5%95%8F%E5%8D%A6%5D&#43;%E5%8F%B0%E7%81%A3%E4%BA%BA50%E5%B9%B4%E4%BB%A3%E5%BE%8C%E7%BE%8E%E6%84%9F%E7%99%BC%E7%94%9F%E7%94%9A%E9%BA%BC%E4%BA%8B%E4%BA%86%EF%BC%9F\">搜尋同標題文章</a></div>\\n\\t\\t\\t\\t\\t\\t\\n\\t\\t\\t\\t\\t\\t<div class=\"item\"><a href=\"/bbs/Gossiping/search?q=author%3Asay29217074\">搜尋看板內 say29217074 的文章</a></div>\\n\\t\\t\\t\\t\\t\\t\\n\\t\\t\\t\\t\\t</div>\\n\\t\\t\\t\\t\\t\\n\\t\\t\\t\\t</div>\\n\\t\\t\\t\\t<div class=\"date\"> 8/23</div>\\n\\t\\t\\t\\t<div class=\"mark\"></div>\\n\\t\\t\\t</div>\\n\\t\\t</div>\\n\\n\\t\\t\\n            \\n        \\n        \\n\\t\\t<div class=\"r-ent\">\\n\\t\\t\\t<div class=\"nrec\"></div>\\n\\t\\t\\t<div class=\"title\">\\n\\t\\t\\t\\n\\t\\t\\t\\t<a href=\"/bbs/Gossiping/M.1598168837.A.6B1.html\">[問卦] 台南爐渣好吃嗎？</a>\\n\\t\\t\\t\\n\\t\\t\\t</div>\\n\\t\\t\\t<div class=\"meta\">\\n\\t\\t\\t\\t<div class=\"author\">allyourshit</div>\\n\\t\\t\\t\\t<div class=\"article-menu\">\\n\\t\\t\\t\\t\\t\\n\\t\\t\\t\\t\\t<div class=\"trigger\">&#x22ef;</div>\\n\\t\\t\\t\\t\\t<div class=\"dropdown\">\\n\\t\\t\\t\\t\\t\\t<div class=\"item\"><a href=\"/bbs/Gossiping/search?q=thread%3A%5B%E5%95%8F%E5%8D%A6%5D&#43;%E5%8F%B0%E5%8D%97%E7%88%90%E6%B8%A3%E5%A5%BD%E5%90%83%E5%97%8E%EF%BC%9F\">搜尋同標題文章</a></div>\\n\\t\\t\\t\\t\\t\\t\\n\\t\\t\\t\\t\\t\\t<div class=\"item\"><a href=\"/bbs/Gossiping/search?q=author%3Aallyourshit\">搜尋看板內 allyourshit 的文章</a></div>\\n\\t\\t\\t\\t\\t\\t\\n\\t\\t\\t\\t\\t</div>\\n\\t\\t\\t\\t\\t\\n\\t\\t\\t\\t</div>\\n\\t\\t\\t\\t<div class=\"date\"> 8/23</div>\\n\\t\\t\\t\\t<div class=\"mark\"></div>\\n\\t\\t\\t</div>\\n\\t\\t</div>\\n\\n\\t\\t\\n        \\n        <div class=\"r-list-sep\"></div>\\n            \\n                \\n        \\n        \\n\\t\\t<div class=\"r-ent\">\\n\\t\\t\\t<div class=\"nrec\"></div>\\n\\t\\t\\t<div class=\"title\">\\n\\t\\t\\t\\n\\t\\t\\t\\t<a href=\"/bbs/Gossiping/M.1595260807.A.E89.html\">[公告] 八卦板板規(2020.07.21)</a>\\n\\t\\t\\t\\n\\t\\t\\t</div>\\n\\t\\t\\t<div class=\"meta\">\\n\\t\\t\\t\\t<div class=\"author\">seabox</div>\\n\\t\\t\\t\\t<div class=\"article-menu\">\\n\\t\\t\\t\\t\\t\\n\\t\\t\\t\\t\\t<div class=\"trigger\">&#x22ef;</div>\\n\\t\\t\\t\\t\\t<div class=\"dropdown\">\\n\\t\\t\\t\\t\\t\\t<div class=\"item\"><a href=\"/bbs/Gossiping/search?q=thread%3A%5B%E5%85%AC%E5%91%8A%5D&#43;%E5%85%AB%E5%8D%A6%E6%9D%BF%E6%9D%BF%E8%A6%8F%282020.07.21%29\">搜尋同標題文章</a></div>\\n\\t\\t\\t\\t\\t\\t\\n\\t\\t\\t\\t\\t\\t<div class=\"item\"><a href=\"/bbs/Gossiping/search?q=author%3Aseabox\">搜尋看板內 seabox 的文章</a></div>\\n\\t\\t\\t\\t\\t\\t\\n\\t\\t\\t\\t\\t</div>\\n\\t\\t\\t\\t\\t\\n\\t\\t\\t\\t</div>\\n\\t\\t\\t\\t<div class=\"date\"> 7/21</div>\\n\\t\\t\\t\\t<div class=\"mark\">!</div>\\n\\t\\t\\t</div>\\n\\t\\t</div>\\n\\n            \\n                \\n        \\n        \\n\\t\\t<div class=\"r-ent\">\\n\\t\\t\\t<div class=\"nrec\"><span class=\"hl f1\">爆</span></div>\\n\\t\\t\\t<div class=\"title\">\\n\\t\\t\\t\\n\\t\\t\\t\\t<a href=\"/bbs/Gossiping/M.1597395423.A.0FC.html\">[協尋] 8/12 屏東 萬順路與崙中路口 行車紀錄器</a>\\n\\t\\t\\t\\n\\t\\t\\t</div>\\n\\t\\t\\t<div class=\"meta\">\\n\\t\\t\\t\\t<div class=\"author\">water112</div>\\n\\t\\t\\t\\t<div class=\"article-menu\">\\n\\t\\t\\t\\t\\t\\n\\t\\t\\t\\t\\t<div class=\"trigger\">&#x22ef;</div>\\n\\t\\t\\t\\t\\t<div class=\"dropdown\">\\n\\t\\t\\t\\t\\t\\t<div class=\"item\"><a href=\"/bbs/Gossiping/search?q=thread%3A%5B%E5%8D%94%E5%B0%8B%5D&#43;8%2F12&#43;%E5%B1%8F%E6%9D%B1&#43;%E8%90%AC%E9%A0%86%E8%B7%AF%E8%88%87%E5%B4%99%E4%B8%AD%E8%B7%AF%E5%8F%A3&#43;%E8%A1%8C%E8%BB%8A%E7%B4%80%E9%8C%84%E5%99%A8\">搜尋同標題文章</a></div>\\n\\t\\t\\t\\t\\t\\t\\n\\t\\t\\t\\t\\t\\t<div class=\"item\"><a href=\"/bbs/Gossiping/search?q=author%3Awater112\">搜尋看板內 water112 的文章</a></div>\\n\\t\\t\\t\\t\\t\\t\\n\\t\\t\\t\\t\\t</div>\\n\\t\\t\\t\\t\\t\\n\\t\\t\\t\\t</div>\\n\\t\\t\\t\\t<div class=\"date\"> 8/14</div>\\n\\t\\t\\t\\t<div class=\"mark\"></div>\\n\\t\\t\\t</div>\\n\\t\\t</div>\\n\\n            \\n                \\n        \\n        \\n\\t\\t<div class=\"r-ent\">\\n\\t\\t\\t<div class=\"nrec\"><span class=\"hl f1\">爆</span></div>\\n\\t\\t\\t<div class=\"title\">\\n\\t\\t\\t\\n\\t\\t\\t\\t<a href=\"/bbs/Gossiping/M.1597380236.A.3AB.html\">[協尋] 8/12  12:10~12:40行經花東鹽寮北上影像</a>\\n\\t\\t\\t\\n\\t\\t\\t</div>\\n\\t\\t\\t<div class=\"meta\">\\n\\t\\t\\t\\t<div class=\"author\">monarch0301</div>\\n\\t\\t\\t\\t<div class=\"article-menu\">\\n\\t\\t\\t\\t\\t\\n\\t\\t\\t\\t\\t<div class=\"trigger\">&#x22ef;</div>\\n\\t\\t\\t\\t\\t<div class=\"dropdown\">\\n\\t\\t\\t\\t\\t\\t<div class=\"item\"><a href=\"/bbs/Gossiping/search?q=thread%3A%5B%E5%8D%94%E5%B0%8B%5D&#43;8%2F12&#43;&#43;12%3A10~12%3A40%E8%A1%8C%E7%B6%93%E8%8A%B1%E6%9D%B1%E9%B9%BD%E5%AF%AE%E5%8C%97%E4%B8%8A%E5%BD%B1%E5%83%8F\">搜尋同標題文章</a></div>\\n\\t\\t\\t\\t\\t\\t\\n\\t\\t\\t\\t\\t\\t<div class=\"item\"><a href=\"/bbs/Gossiping/search?q=author%3Amonarch0301\">搜尋看板內 monarch0301 的文章</a></div>\\n\\t\\t\\t\\t\\t\\t\\n\\t\\t\\t\\t\\t</div>\\n\\t\\t\\t\\t\\t\\n\\t\\t\\t\\t</div>\\n\\t\\t\\t\\t<div class=\"date\"> 8/14</div>\\n\\t\\t\\t\\t<div class=\"mark\"></div>\\n\\t\\t\\t</div>\\n\\t\\t</div>\\n\\n            \\n                \\n        \\n        \\n\\t\\t<div class=\"r-ent\">\\n\\t\\t\\t<div class=\"nrec\"><span class=\"hl f1\">爆</span></div>\\n\\t\\t\\t<div class=\"title\">\\n\\t\\t\\t\\n\\t\\t\\t\\t<a href=\"/bbs/Gossiping/M.1597762934.A.F53.html\">Fw: [徵求]行車紀錄8/17台南新市區永就里am7-8</a>\\n\\t\\t\\t\\n\\t\\t\\t</div>\\n\\t\\t\\t<div class=\"meta\">\\n\\t\\t\\t\\t<div class=\"author\">ROCKMAX</div>\\n\\t\\t\\t\\t<div class=\"article-menu\">\\n\\t\\t\\t\\t\\t\\n\\t\\t\\t\\t\\t<div class=\"trigger\">&#x22ef;</div>\\n\\t\\t\\t\\t\\t<div class=\"dropdown\">\\n\\t\\t\\t\\t\\t\\t<div class=\"item\"><a href=\"/bbs/Gossiping/search?q=thread%3A%5B%E5%BE%B5%E6%B1%82%5D%E8%A1%8C%E8%BB%8A%E7%B4%80%E9%8C%848%2F17%E5%8F%B0%E5%8D%97%E6%96%B0%E5%B8%82%E5%8D%80%E6%B0%B8%E5%B0%B1%E9%87%8Cam7-8\">搜尋同標題文章</a></div>\\n\\t\\t\\t\\t\\t\\t\\n\\t\\t\\t\\t\\t\\t<div class=\"item\"><a href=\"/bbs/Gossiping/search?q=author%3AROCKMAX\">搜尋看板內 ROCKMAX 的文章</a></div>\\n\\t\\t\\t\\t\\t\\t\\n\\t\\t\\t\\t\\t</div>\\n\\t\\t\\t\\t\\t\\n\\t\\t\\t\\t</div>\\n\\t\\t\\t\\t<div class=\"date\"> 8/18</div>\\n\\t\\t\\t\\t<div class=\"mark\"></div>\\n\\t\\t\\t</div>\\n\\t\\t</div>\\n\\n            \\n                \\n        \\n        \\n\\t\\t<div class=\"r-ent\">\\n\\t\\t\\t<div class=\"nrec\"><span class=\"hl f1\">爆</span></div>\\n\\t\\t\\t<div class=\"title\">\\n\\t\\t\\t\\n\\t\\t\\t\\t<a href=\"/bbs/Gossiping/M.1598004550.A.04B.html\">[協尋] 8/17新北五股垃圾山命案行車記錄器</a>\\n\\t\\t\\t\\n\\t\\t\\t</div>\\n\\t\\t\\t<div class=\"meta\">\\n\\t\\t\\t\\t<div class=\"author\">kamiko0901</div>\\n\\t\\t\\t\\t<div class=\"article-menu\">\\n\\t\\t\\t\\t\\t\\n\\t\\t\\t\\t\\t<div class=\"trigger\">&#x22ef;</div>\\n\\t\\t\\t\\t\\t<div class=\"dropdown\">\\n\\t\\t\\t\\t\\t\\t<div class=\"item\"><a href=\"/bbs/Gossiping/search?q=thread%3A%5B%E5%8D%94%E5%B0%8B%5D&#43;8%2F17%E6%96%B0%E5%8C%97%E4%BA%94%E8%82%A1%E5%9E%83%E5%9C%BE%E5%B1%B1%E5%91%BD%E6%A1%88%E8%A1%8C%E8%BB%8A%E8%A8%98%E9%8C%84%E5%99%A8\">搜尋同標題文章</a></div>\\n\\t\\t\\t\\t\\t\\t\\n\\t\\t\\t\\t\\t\\t<div class=\"item\"><a href=\"/bbs/Gossiping/search?q=author%3Akamiko0901\">搜尋看板內 kamiko0901 的文章</a></div>\\n\\t\\t\\t\\t\\t\\t\\n\\t\\t\\t\\t\\t</div>\\n\\t\\t\\t\\t\\t\\n\\t\\t\\t\\t</div>\\n\\t\\t\\t\\t<div class=\"date\"> 8/21</div>\\n\\t\\t\\t\\t<div class=\"mark\"></div>\\n\\t\\t\\t</div>\\n\\t\\t</div>\\n\\n            \\n        \\n\\t</div>\\n\\n    \\n<div class=\"bbs-screen bbs-footer-message\">本網站已依台灣網站內容分級規定處理。此區域為限制級，未滿十八歲者不得瀏覽。</div>\\n\\n</div>\\n\\n\\t\\t\\n\\n<script>\\n  (function(i,s,o,g,r,a,m){i[\\'GoogleAnalyticsObject\\']=r;i[r]=i[r]||function(){\\n  (i[r].q=i[r].q||[]).push(arguments)},i[r].l=1*new Date();a=s.createElement(o),\\n  m=s.getElementsByTagName(o)[0];a.async=1;a.src=g;m.parentNode.insertBefore(a,m)\\n  })(window,document,\\'script\\',\\'https://www.google-analytics.com/analytics.js\\',\\'ga\\');\\n\\n  ga(\\'create\\', \\'UA-32365737-1\\', {\\n    cookieDomain: \\'ptt.cc\\',\\n    legacyCookieDomain: \\'ptt.cc\\'\\n  });\\n  ga(\\'send\\', \\'pageview\\');\\n</script>\\n\\n\\n\\t\\t\\n<script src=\"//ajax.googleapis.com/ajax/libs/jquery/2.1.1/jquery.min.js\"></script>\\n<script src=\"//images.ptt.cc/bbs/v2.27/bbs.js\"></script>\\n\\n    </body>\\n</html>\\n'"
      ]
     },
     "execution_count": 8,
     "metadata": {},
     "output_type": "execute_result"
    }
   ],
   "source": [
    "res = ss.get('https://www.ptt.cc/bbs/Gossiping/index.html')\n",
    "res.text"
   ]
  },
  {
   "cell_type": "code",
   "execution_count": null,
   "metadata": {},
   "outputs": [],
   "source": []
  }
 ],
 "metadata": {
  "kernelspec": {
   "display_name": "Python 3",
   "language": "python",
   "name": "python3"
  },
  "language_info": {
   "codemirror_mode": {
    "name": "ipython",
    "version": 3
   },
   "file_extension": ".py",
   "mimetype": "text/x-python",
   "name": "python",
   "nbconvert_exporter": "python",
   "pygments_lexer": "ipython3",
   "version": "3.7.0"
  }
 },
 "nbformat": 4,
 "nbformat_minor": 4
}
